{
 "cells": [
  {
   "cell_type": "markdown",
   "metadata": {},
   "source": [
    "# Sentiment Analysis of a book through Supervised Learning\n",
    "\n",
    "In this notebook I will explain how to calculate the sentiment of a book through a Supervised Learning technique, based on Support Vector Machines (SVM). \n",
    "\n",
    "This notebook calculates the sentiment analysis of the Saint Augustine Confessions, which can be downloaded from the [Gutemberg Project Page](https://www.gutenberg.org/files/3296/3296-h/3296-h.htm). The masterpiece is split in 13 books (chapters). We have stored each book into a different file, named number.text (e.g. 1.txt and 2.txt). Each line of every file contains just one sentence.\n",
    "\n",
    "## Getting Started\n",
    "Supervised Learning needs some annotated text to train the model. Thus, the first step consists in reading the annotations file and store it into a dataframe. The annotation file contains for each sentence, the associated score, which is a positive, negative or null number."
   ]
  },
  {
   "cell_type": "code",
   "execution_count": 172,
   "metadata": {},
   "outputs": [
    {
     "data": {
      "text/html": [
       "<div>\n",
       "<style scoped>\n",
       "    .dataframe tbody tr th:only-of-type {\n",
       "        vertical-align: middle;\n",
       "    }\n",
       "\n",
       "    .dataframe tbody tr th {\n",
       "        vertical-align: top;\n",
       "    }\n",
       "\n",
       "    .dataframe thead th {\n",
       "        text-align: right;\n",
       "    }\n",
       "</style>\n",
       "<table border=\"1\" class=\"dataframe\">\n",
       "  <thead>\n",
       "    <tr style=\"text-align: right;\">\n",
       "      <th></th>\n",
       "      <th>sentence</th>\n",
       "      <th>score</th>\n",
       "    </tr>\n",
       "  </thead>\n",
       "  <tbody>\n",
       "    <tr>\n",
       "      <th>0</th>\n",
       "      <td>Great art Thou, O Lord, and greatly to be prai...</td>\n",
       "      <td>10</td>\n",
       "    </tr>\n",
       "    <tr>\n",
       "      <th>1</th>\n",
       "      <td>And Thee would man praise; man, but a particle...</td>\n",
       "      <td>6</td>\n",
       "    </tr>\n",
       "    <tr>\n",
       "      <th>2</th>\n",
       "      <td>Thou awakest us to delight in Thy praise; for ...</td>\n",
       "      <td>4</td>\n",
       "    </tr>\n",
       "    <tr>\n",
       "      <th>3</th>\n",
       "      <td>Grant me, Lord, to know and understand which i...</td>\n",
       "      <td>4</td>\n",
       "    </tr>\n",
       "    <tr>\n",
       "      <th>4</th>\n",
       "      <td>Or, is it rather, that we call on Thee that we...</td>\n",
       "      <td>6</td>\n",
       "    </tr>\n",
       "    <tr>\n",
       "      <th>...</th>\n",
       "      <td>...</td>\n",
       "      <td>...</td>\n",
       "    </tr>\n",
       "    <tr>\n",
       "      <th>181</th>\n",
       "      <td>In so small a creature, what was not wonderful...</td>\n",
       "      <td>8</td>\n",
       "    </tr>\n",
       "    <tr>\n",
       "      <th>182</th>\n",
       "      <td>Good, then, is He that made me, and He is my g...</td>\n",
       "      <td>9</td>\n",
       "    </tr>\n",
       "    <tr>\n",
       "      <th>183</th>\n",
       "      <td>For it was my sin, that not in Him, but in His...</td>\n",
       "      <td>-4</td>\n",
       "    </tr>\n",
       "    <tr>\n",
       "      <th>184</th>\n",
       "      <td>Thanks be to Thee, my joy and my glory and my ...</td>\n",
       "      <td>12</td>\n",
       "    </tr>\n",
       "    <tr>\n",
       "      <th>185</th>\n",
       "      <td>For so wilt Thou preserve me, and those things...</td>\n",
       "      <td>2</td>\n",
       "    </tr>\n",
       "  </tbody>\n",
       "</table>\n",
       "<p>186 rows × 2 columns</p>\n",
       "</div>"
      ],
      "text/plain": [
       "                                              sentence  score\n",
       "0    Great art Thou, O Lord, and greatly to be prai...     10\n",
       "1    And Thee would man praise; man, but a particle...      6\n",
       "2    Thou awakest us to delight in Thy praise; for ...      4\n",
       "3    Grant me, Lord, to know and understand which i...      4\n",
       "4    Or, is it rather, that we call on Thee that we...      6\n",
       "..                                                 ...    ...\n",
       "181  In so small a creature, what was not wonderful...      8\n",
       "182  Good, then, is He that made me, and He is my g...      9\n",
       "183  For it was my sin, that not in Him, but in His...     -4\n",
       "184  Thanks be to Thee, my joy and my glory and my ...     12\n",
       "185  For so wilt Thou preserve me, and those things...      2\n",
       "\n",
       "[186 rows x 2 columns]"
      ]
     },
     "execution_count": 172,
     "metadata": {},
     "output_type": "execute_result"
    }
   ],
   "source": [
    "import pandas as pd\n",
    "\n",
    "df = pd.read_csv('sources/annotations.csv')\n",
    "df"
   ]
  },
  {
   "cell_type": "markdown",
   "metadata": {},
   "source": [
    "We can calculate some statistics regarding the annotations, such as the number of positive, negative and neutral scores, as well as the total number of annotations. We can use the `count()` method applied to the dataframe."
   ]
  },
  {
   "cell_type": "code",
   "execution_count": 174,
   "metadata": {},
   "outputs": [
    {
     "data": {
      "text/plain": [
       "sentence    186\n",
       "score       186\n",
       "dtype: int64"
      ]
     },
     "execution_count": 174,
     "metadata": {},
     "output_type": "execute_result"
    }
   ],
   "source": [
    "df.count()"
   ]
  },
  {
   "cell_type": "code",
   "execution_count": 173,
   "metadata": {},
   "outputs": [
    {
     "data": {
      "text/plain": [
       "sentence    82\n",
       "score       82\n",
       "dtype: int64"
      ]
     },
     "execution_count": 173,
     "metadata": {},
     "output_type": "execute_result"
    }
   ],
   "source": [
    "df[df['score'] > 0].count()"
   ]
  },
  {
   "cell_type": "code",
   "execution_count": 175,
   "metadata": {},
   "outputs": [
    {
     "data": {
      "text/plain": [
       "sentence    74\n",
       "score       74\n",
       "dtype: int64"
      ]
     },
     "execution_count": 175,
     "metadata": {},
     "output_type": "execute_result"
    }
   ],
   "source": [
    "df[df['score'] < 0].count()"
   ]
  },
  {
   "cell_type": "code",
   "execution_count": 149,
   "metadata": {},
   "outputs": [
    {
     "data": {
      "text/plain": [
       "sentence    30\n",
       "score       30\n",
       "dtype: int64"
      ]
     },
     "execution_count": 149,
     "metadata": {},
     "output_type": "execute_result"
    }
   ],
   "source": [
    "df[df['score'] == 0].count()"
   ]
  },
  {
   "cell_type": "markdown",
   "metadata": {},
   "source": [
    "## Prepare the training and test sets\n",
    "\n",
    "In order to calculate the sentiment of each sentence, we will exploit a Supervised Learning technique, which exploits a binary classification model. This model takes a sentence as input and returns 1 or 0, depending whether the sentence is positively rated or not. Since our model is binary, we must remove all the annotations with a neutral score."
   ]
  },
  {
   "cell_type": "code",
   "execution_count": 176,
   "metadata": {},
   "outputs": [],
   "source": [
    "import numpy as np\n",
    "# Remove any 'neutral' ratings equal to 0\n",
    "df = df[df['score'] != 0]"
   ]
  },
  {
   "cell_type": "markdown",
   "metadata": {},
   "source": [
    "Now we can add a column to the dataframe, called `Positively Rated`, containing 1 or 0, depending on a positive or negative score. We use the `where()` method to assign the appropriate value to this new column of the dataframe."
   ]
  },
  {
   "cell_type": "code",
   "execution_count": 177,
   "metadata": {},
   "outputs": [
    {
     "name": "stderr",
     "output_type": "stream",
     "text": [
      "<ipython-input-177-3e2fd8cb4d0e>:1: SettingWithCopyWarning: \n",
      "A value is trying to be set on a copy of a slice from a DataFrame.\n",
      "Try using .loc[row_indexer,col_indexer] = value instead\n",
      "\n",
      "See the caveats in the documentation: https://pandas.pydata.org/pandas-docs/stable/user_guide/indexing.html#returning-a-view-versus-a-copy\n",
      "  df['Positively Rated'] = np.where(df['score'] > 0, 1, 0)\n"
     ]
    }
   ],
   "source": [
    "df['Positively Rated'] = np.where(df['score'] > 0, 1, 0)"
   ]
  },
  {
   "cell_type": "markdown",
   "metadata": {},
   "source": [
    "## Calculate the sentiment\n",
    "\n",
    "We define an auxiliary function, called `calculate_indexes()`, which receives as input the supervised learning model (which will be described later) and the `CountVectorizer` vector, as described later. \n",
    "\n",
    "Within the function, we open the file corresponding to each book through the `open()` function, we read all the lines through the function `file.readlines()` and for each line, we calculate the score, by applying the `predict()` function to the model.\n",
    "\n",
    "Then, we can define three indexes to calculate the sentiment of a book: the positive sentiment index (pi), the negative sentiment index (ni) and the neutral sentiment index (nui). The pi of a book corresponds to the number of positive sentences in a book divided per the total number of sentences of the book. Similarly, we can calculate the ni and nui of a book."
   ]
  },
  {
   "cell_type": "code",
   "execution_count": 180,
   "metadata": {},
   "outputs": [],
   "source": [
    "def calculte_indexes(model,vect):\n",
    "    pos_index = []\n",
    "    neg_index = []\n",
    "    neutral_index = []\n",
    "    all_text = \"\"\n",
    "    for book in range(1,14):\n",
    "        file = open('sources/' + str(book) + '.txt')\n",
    "        lines = file.readlines()\n",
    "        pos = 0\n",
    "        neg = 0\n",
    "    \n",
    "    \n",
    "        for line in lines:\n",
    "            score = model.predict(vect.transform([line]))\n",
    "            \n",
    "            if score == 1:\n",
    "                pos += 1\n",
    "            else:\n",
    "                neg += 1\n",
    "            all_text += ' ' + line.lower() \n",
    "              \n",
    "        n = len(lines)\n",
    "        pos_index.append(pos / n)\n",
    "        neg_index.append(neg / n)\n",
    "    \n",
    "    return pos_index,neg_index\n"
   ]
  },
  {
   "cell_type": "markdown",
   "metadata": {},
   "source": [
    "Now we can train the algorithm. We define two different cases: in the first case we do not consider ngrams, in the second we do. We define a function called `train_algorithm()`, which can be invoked by specifying the usage of ngrams. \n",
    "\n",
    "In the function, firstly we split the dataset in two parts, training and test set through the `scikit-learn` function called `train_test_split()`. The training set will be used to train the algorithm, the test set will be used to test the performance of the algorithm.\n",
    "\n",
    "Then we build the matrix of tokens count, i.e. the matrix which contains for each sentence which tokens are available. This can be done through the class `CountVectorizer`, which receives as input the number of ngrams to consider. In this tutorial, only two ngrams are considered.\n",
    "\n",
    "Then we can build the model: we use the `LinearSVC()` class contained in `scikit-learn` and we train it with the training set `model.fit(X_train_vectorized, y_train)`. Finally, we test the performance of the algorithm by predicting the output for the test set and comparing results with real output contained in the test set. As metrics, we measure the AUC, but we could calculate also other metrics.\n",
    "\n",
    "Once trained the model, we can calculate the indexes, through the `calculte_indexes()` function.\n",
    "Finally, we plot results."
   ]
  },
  {
   "cell_type": "code",
   "execution_count": 181,
   "metadata": {},
   "outputs": [],
   "source": [
    "from sklearn.model_selection import train_test_split\n",
    "from sklearn.feature_extraction.text import CountVectorizer\n",
    "from sklearn.svm import LinearSVC\n",
    "from sklearn.metrics import roc_auc_score\n",
    "import matplotlib.pyplot as plt\n",
    "\n",
    "\n",
    "def train_algorithm(df, ngrams=False):\n",
    "    # Split data into training and test sets\n",
    "    X_train, X_test, y_train, y_test = train_test_split(df['sentence'], \n",
    "                                                    df['Positively Rated'], \n",
    "                                                    random_state=0)\n",
    "    \n",
    "    # Fit the CountVectorizer to the training data\n",
    "    vect = CountVectorizer(min_df=5).fit(X_train)\n",
    "    if ngrams:\n",
    "        # Fit the CountVectorizer to the training data specifiying a minimum \n",
    "        # document frequency of 5 and extracting 1-grams and 2-grams\n",
    "        vect = CountVectorizer(min_df=5, ngram_range=(1,2)).fit(X_train)\n",
    "        print('NGRAMS')\n",
    "    else:\n",
    "        print('WITHOUT N-GRAMS')\n",
    "    # transform the documents in the training data to a document-term matrix\n",
    "    X_train_vectorized = vect.transform(X_train)\n",
    "    # Train the model\n",
    "    model = LinearSVC()\n",
    "    model.fit(X_train_vectorized, y_train)\n",
    "    \n",
    "    # Predict the transformed test documents\n",
    "    predictions = model.predict(vect.transform(X_test))\n",
    "\n",
    "    print('AUC: ', roc_auc_score(y_test, predictions))\n",
    "    \n",
    "    pos_index, neg_index = calculte_indexes(model,vect)\n",
    "    \n",
    "    X = np.arange(1,14)\n",
    "    plt.plot(X,pos_index,'-.',label='pos')\n",
    "    plt.plot(X,neg_index, '--',label='neg')\n",
    "    #plt.plot(X,neutral_index,'-',label='neu')\n",
    "    plt.legend()\n",
    "    plt.xticks(X)\n",
    "    plt.xlabel('Libri')\n",
    "    plt.ylabel('Indici')\n",
    "    plt.grid()\n",
    "    if ngrams:\n",
    "        plt.savefig('plots/svm-ngram-bsi.png')\n",
    "    else:\n",
    "        plt.savefig('plots/svm-1gram-bsi.png')\n",
    "    plt.show()"
   ]
  },
  {
   "cell_type": "markdown",
   "metadata": {},
   "source": [
    "## Run experiments\n",
    "Now we can run experiments with ngrams enabled and disabled."
   ]
  },
  {
   "cell_type": "code",
   "execution_count": 182,
   "metadata": {},
   "outputs": [
    {
     "name": "stdout",
     "output_type": "stream",
     "text": [
      "WITHOUT N-GRAMS\n",
      "AUC:  0.6938502673796793\n"
     ]
    },
    {
     "data": {
      "image/png": "[encoded data removed]",
      "text/plain": [
       "<Figure size 432x288 with 1 Axes>"
      ]
     },
     "metadata": {
      "needs_background": "light"
     },
     "output_type": "display_data"
    },
    {
     "name": "stdout",
     "output_type": "stream",
     "text": [
      "NGRAMS\n",
      "AUC:  0.8275401069518716\n"
     ]
    },
    {
     "data": {
      "image/png": "[encoded data removed]",
      "text/plain": [
       "<Figure size 432x288 with 1 Axes>"
      ]
     },
     "metadata": {
      "needs_background": "light"
     },
     "output_type": "display_data"
    }
   ],
   "source": [
    "train_algorithm(df, ngrams=False)\n",
    "train_algorithm(df, ngrams=True)"
   ]
  }
 ],
 "metadata": {
  "kernelspec": {
   "display_name": "Python 3",
   "language": "python",
   "name": "python3"
  },
  "language_info": {
   "codemirror_mode": {
    "name": "ipython",
    "version": 3
   },
   "file_extension": ".py",
   "mimetype": "text/x-python",
   "name": "python",
   "nbconvert_exporter": "python",
   "pygments_lexer": "ipython3",
   "version": "3.8.1"
  }
 },
 "nbformat": 4,
 "nbformat_minor": 4
}
