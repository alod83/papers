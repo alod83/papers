{
 "cells": [
  {
   "cell_type": "markdown",
   "metadata": {
    "colab_type": "text",
    "id": "IXInyF-5vLZc"
   },
   "source": [
    "# Predict Tourists Arrivals in Italy without COVID-19\n",
    "This notebook describes how to predict a variable sinusoid in Python.\n",
    "\n",
    "Data analysed: Arrivals at tourist accommodation establishments extracted from https://ec.europa.eu/eurostat/web/tourism/data/database\n",
    "Data are updated up to October 2019\n",
    "\n",
    "## Data import and cleaning\n",
    "Firstly, we read the CSV file and we select only data related to Italy (`df[df['geo'] == 'IT']`), in the form of numbers (`df[df['unit'] == 'NR']`) and referred to the sum of all data available (internal and external arrivals) (`df[df['c_resid'] == 'TOTAL']`).\n",
    "\n",
    "Then we remove unuseful columns through the function `drop()`. Note that we pass the parameter `inplace=True` to store effects in the original variable `df`."
   ]
  },
  {
   "cell_type": "code",
   "execution_count": 1,
   "metadata": {
    "colab": {
     "base_uri": "https://localhost:8080/",
     "height": 253
    },
    "colab_type": "code",
    "executionInfo": {
     "elapsed": 9667,
     "status": "ok",
     "timestamp": 1588079254915,
     "user": {
      "displayName": "Angelica Lo Duca",
      "photoUrl": "https://lh3.googleusercontent.com/a-/AOh14Ggso9VpaoC6b7-YibFA_8Qm-Td3IurPQuGu8ofIkg=s64",
      "userId": "13777285307189724523"
     },
     "user_tz": -120
    },
    "id": "bMtqXYyZvLZc",
    "outputId": "5e012ec2-656f-4c2a-d108-440221bb614c"
   },
   "outputs": [
    {
     "data": {
      "text/html": [
       "<div>\n",
       "<style scoped>\n",
       "    .dataframe tbody tr th:only-of-type {\n",
       "        vertical-align: middle;\n",
       "    }\n",
       "\n",
       "    .dataframe tbody tr th {\n",
       "        vertical-align: top;\n",
       "    }\n",
       "\n",
       "    .dataframe thead th {\n",
       "        text-align: right;\n",
       "    }\n",
       "</style>\n",
       "<table border=\"1\" class=\"dataframe\">\n",
       "  <thead>\n",
       "    <tr style=\"text-align: right;\">\n",
       "      <th></th>\n",
       "      <th>2019M10</th>\n",
       "      <th>2019M09</th>\n",
       "      <th>2019M08</th>\n",
       "      <th>2019M07</th>\n",
       "      <th>2019M06</th>\n",
       "      <th>2019M05</th>\n",
       "      <th>2019M04</th>\n",
       "      <th>2019M03</th>\n",
       "      <th>2019M02</th>\n",
       "      <th>2019M01</th>\n",
       "      <th>...</th>\n",
       "      <th>1990M10</th>\n",
       "      <th>1990M09</th>\n",
       "      <th>1990M08</th>\n",
       "      <th>1990M07</th>\n",
       "      <th>1990M06</th>\n",
       "      <th>1990M05</th>\n",
       "      <th>1990M04</th>\n",
       "      <th>1990M03</th>\n",
       "      <th>1990M02</th>\n",
       "      <th>1990M01</th>\n",
       "    </tr>\n",
       "  </thead>\n",
       "  <tbody>\n",
       "    <tr>\n",
       "      <th>0</th>\n",
       "      <td>7692388</td>\n",
       "      <td>9888817</td>\n",
       "      <td>11649500</td>\n",
       "      <td>11506828</td>\n",
       "      <td>10555177</td>\n",
       "      <td>8484623</td>\n",
       "      <td>7996564</td>\n",
       "      <td>6442451</td>\n",
       "      <td>5401907</td>\n",
       "      <td>4779780</td>\n",
       "      <td>...</td>\n",
       "      <td>4382114</td>\n",
       "      <td>5872800</td>\n",
       "      <td>6215162</td>\n",
       "      <td>5538456</td>\n",
       "      <td>5001834</td>\n",
       "      <td>4738376</td>\n",
       "      <td>5107712</td>\n",
       "      <td>3774702</td>\n",
       "      <td>2871632</td>\n",
       "      <td>2543920</td>\n",
       "    </tr>\n",
       "    <tr>\n",
       "      <th>1</th>\n",
       "      <td>9779634</td>\n",
       "      <td>13380878</td>\n",
       "      <td>17745906</td>\n",
       "      <td>16876623</td>\n",
       "      <td>15071334</td>\n",
       "      <td>11105855</td>\n",
       "      <td>10551748</td>\n",
       "      <td>7705290</td>\n",
       "      <td>6363443</td>\n",
       "      <td>5601494</td>\n",
       "      <td>...</td>\n",
       "      <td>4574465</td>\n",
       "      <td>6553683</td>\n",
       "      <td>8412912</td>\n",
       "      <td>7430910</td>\n",
       "      <td>5995222</td>\n",
       "      <td>5169499</td>\n",
       "      <td>5498973</td>\n",
       "      <td>3925870</td>\n",
       "      <td>2982746</td>\n",
       "      <td>2635664</td>\n",
       "    </tr>\n",
       "    <tr>\n",
       "      <th>2</th>\n",
       "      <td>1800880</td>\n",
       "      <td>2620422</td>\n",
       "      <td>4080752</td>\n",
       "      <td>3653490</td>\n",
       "      <td>3041263</td>\n",
       "      <td>2007128</td>\n",
       "      <td>1975162</td>\n",
       "      <td>1170226</td>\n",
       "      <td>910129</td>\n",
       "      <td>785658</td>\n",
       "      <td>...</td>\n",
       "      <td>:</td>\n",
       "      <td>:</td>\n",
       "      <td>:</td>\n",
       "      <td>:</td>\n",
       "      <td>:</td>\n",
       "      <td>:</td>\n",
       "      <td>:</td>\n",
       "      <td>:</td>\n",
       "      <td>:</td>\n",
       "      <td>:</td>\n",
       "    </tr>\n",
       "    <tr>\n",
       "      <th>3</th>\n",
       "      <td>2087246</td>\n",
       "      <td>3492061</td>\n",
       "      <td>6096406</td>\n",
       "      <td>5369795</td>\n",
       "      <td>4516157</td>\n",
       "      <td>2621232</td>\n",
       "      <td>2555184</td>\n",
       "      <td>1262839</td>\n",
       "      <td>961536</td>\n",
       "      <td>821714</td>\n",
       "      <td>...</td>\n",
       "      <td>192351</td>\n",
       "      <td>680883</td>\n",
       "      <td>2197750</td>\n",
       "      <td>1892454</td>\n",
       "      <td>993388</td>\n",
       "      <td>431123</td>\n",
       "      <td>391261</td>\n",
       "      <td>151168</td>\n",
       "      <td>111114</td>\n",
       "      <td>91744</td>\n",
       "    </tr>\n",
       "    <tr>\n",
       "      <th>4</th>\n",
       "      <td>286366</td>\n",
       "      <td>871639</td>\n",
       "      <td>2015654</td>\n",
       "      <td>1716305</td>\n",
       "      <td>1474894</td>\n",
       "      <td>614104</td>\n",
       "      <td>580022</td>\n",
       "      <td>92613</td>\n",
       "      <td>51407</td>\n",
       "      <td>36056</td>\n",
       "      <td>...</td>\n",
       "      <td>:</td>\n",
       "      <td>:</td>\n",
       "      <td>:</td>\n",
       "      <td>:</td>\n",
       "      <td>:</td>\n",
       "      <td>:</td>\n",
       "      <td>:</td>\n",
       "      <td>:</td>\n",
       "      <td>:</td>\n",
       "      <td>:</td>\n",
       "    </tr>\n",
       "  </tbody>\n",
       "</table>\n",
       "<p>5 rows × 358 columns</p>\n",
       "</div>"
      ],
      "text/plain": [
       "   2019M10   2019M09   2019M08   2019M07   2019M06   2019M05   2019M04  \\\n",
       "0  7692388   9888817  11649500  11506828  10555177   8484623   7996564   \n",
       "1  9779634  13380878  17745906  16876623  15071334  11105855  10551748   \n",
       "2  1800880   2620422   4080752   3653490   3041263   2007128   1975162   \n",
       "3  2087246   3492061   6096406   5369795   4516157   2621232   2555184   \n",
       "4   286366    871639   2015654   1716305   1474894    614104    580022   \n",
       "\n",
       "   2019M03  2019M02  2019M01  ...  1990M10  1990M09  1990M08  1990M07  \\\n",
       "0  6442451  5401907  4779780  ...  4382114  5872800  6215162  5538456   \n",
       "1  7705290  6363443  5601494  ...  4574465  6553683  8412912  7430910   \n",
       "2  1170226   910129   785658  ...        :        :        :        :   \n",
       "3  1262839   961536   821714  ...   192351   680883  2197750  1892454   \n",
       "4    92613    51407    36056  ...        :        :        :        :   \n",
       "\n",
       "   1990M06  1990M05  1990M04  1990M03  1990M02  1990M01   \n",
       "0  5001834  4738376  5107712  3774702  2871632  2543920   \n",
       "1  5995222  5169499  5498973  3925870  2982746  2635664   \n",
       "2        :        :        :        :        :        :   \n",
       "3   993388   431123   391261   151168   111114    91744   \n",
       "4        :        :        :        :        :        :   \n",
       "\n",
       "[5 rows x 358 columns]"
      ]
     },
     "execution_count": 1,
     "metadata": {},
     "output_type": "execute_result"
    }
   ],
   "source": [
    "import pandas as pd\n",
    "df = pd.read_csv('data/eurostat.csv')\n",
    "df = df[df['geo'] == 'IT']\n",
    "df = df[df['unit'] == 'NR']\n",
    "df = df[df['c_resid'] == 'TOTAL']\n",
    "df.drop(['c_resid', 'unit', 'nace_r2', '2019M11', 'geo'],axis=1, inplace=True)\n",
    "df = df.reset_index()\n",
    "df.drop(['index'],axis=1, inplace=True)\n",
    "df"
   ]
  },
  {
   "cell_type": "markdown",
   "metadata": {
    "colab_type": "text",
    "id": "ivjwo54pvLZg"
   },
   "source": [
    "Now we can correct some errors in data: some rows contain the character `:`, which means no data available. Other rows contain the letter `b`. We change `:` in `0` and we remove the letter `b`."
   ]
  },
  {
   "cell_type": "code",
   "execution_count": 2,
   "metadata": {
    "colab": {},
    "colab_type": "code",
    "id": "TW0M6IFpvLZh"
   },
   "outputs": [],
   "source": [
    "columns = df.columns[::-1]\n",
    "for column in columns:\n",
    "    for row in range(1, len(df[column])):\n",
    "        if \"b\" in df[column][row]:\n",
    "            df[column] = df[column][row][:-2]\n",
    "        if \":\" in df[column][row]:\n",
    "            df[column][row] = \"0\""
   ]
  },
  {
   "cell_type": "markdown",
   "metadata": {
    "colab_type": "text",
    "id": "VJq0o3ywvLZk"
   },
   "source": [
    "Now we calculate the sum over the columns, in order to get the total number of arrivals for each month. We store results in the variable `y`."
   ]
  },
  {
   "cell_type": "code",
   "execution_count": 3,
   "metadata": {
    "colab": {},
    "colab_type": "code",
    "id": "5o4GTk0HvLZm"
   },
   "outputs": [],
   "source": [
    "y = []\n",
    "for column in columns:\n",
    "    df[column] = df[column].astype(str).astype(int)\n",
    "    y.append(df[column].sum())"
   ]
  },
  {
   "cell_type": "markdown",
   "metadata": {
    "colab_type": "text",
    "id": "AdVR8nhjvLZp"
   },
   "source": [
    "## Preliminary analysis\n",
    "We plot `y` to understand the trendline. We build the auxiliary vector `X`, which contains all the months. Month 0 refers to 1990 Genuary. In order to display x labels in the graph every 5 years, we build two auxiliary variables, `x_ticks` and `x_labels`."
   ]
  },
  {
   "cell_type": "code",
   "execution_count": 4,
   "metadata": {
    "colab": {
     "base_uri": "https://localhost:8080/",
     "height": 290
    },
    "colab_type": "code",
    "executionInfo": {
     "elapsed": 1330,
     "status": "ok",
     "timestamp": 1588079292876,
     "user": {
      "displayName": "Angelica Lo Duca",
      "photoUrl": "https://lh3.googleusercontent.com/a-/AOh14Ggso9VpaoC6b7-YibFA_8Qm-Td3IurPQuGu8ofIkg=s64",
      "userId": "13777285307189724523"
     },
     "user_tz": -120
    },
    "id": "V1M5S6fDvLZp",
    "outputId": "fcc483bb-adcd-42ac-9dba-0250ade40a63"
   },
   "outputs": [
    {
     "data": {
      "image/png": "[encoded data removed]",
      "text/plain": [
       "<Figure size 432x288 with 1 Axes>"
      ]
     },
     "metadata": {
      "needs_background": "light"
     },
     "output_type": "display_data"
    }
   ],
   "source": [
    "import matplotlib.pyplot as plt\n",
    "import matplotlib\n",
    "import numpy as np\n",
    "\n",
    "\n",
    "X = np.arange(0, len(columns))\n",
    "\n",
    "step = 5\n",
    "x_ticks = np.arange(0, len(columns)+step, step=12*step)\n",
    "x_labels = []\n",
    "x_labels.append(1990)\n",
    "for i in range(1, len(x_ticks)+1):\n",
    "    x_labels.append(x_labels[i-1]+step)\n",
    "plt.xticks(x_ticks, x_labels)\n",
    "plt.plot(X, y, color=\"red\", linewidth=1)\n",
    "\n",
    "plt.grid()\n",
    "plt.xlabel('Months')\n",
    "plt.ylabel('Number of arrivals')\n",
    "\n",
    "plt.show()"
   ]
  },
  {
   "cell_type": "markdown",
   "metadata": {
    "colab_type": "text",
    "id": "BTS0cHwxvLZs"
   },
   "source": [
    "We note that over the last 8 years there was an increase of the maximum peaks, with respect to the previous years. Thus we limit our analysis the last 8 years. This means that we should skip the first 22 years. We reset `X` and `y` to work only with the last years."
   ]
  },
  {
   "cell_type": "code",
   "execution_count": 5,
   "metadata": {
    "colab": {},
    "colab_type": "code",
    "id": "2CX_EIs7vLZt"
   },
   "outputs": [],
   "source": [
    "skip = 22*12\n",
    "X = X[skip:]\n",
    "y = y[skip:]"
   ]
  },
  {
   "cell_type": "markdown",
   "metadata": {
    "colab_type": "text",
    "id": "Cp4uLeu8vLZw"
   },
   "source": [
    "## Data approximation\n",
    "Now we can approximate data with a sinusoid. The equation of a sinusoid is `A*np.sin(omega*x+phase) + offset`, where:\n",
    "* |`A`| indicates the amplitude, i.e. half the distance between the maximum and minimum values of the function\n",
    "* `omega` is the number of cycles between 0 and 2pi. The period T is 2pi/omega\n",
    "* `phase` is the horizontal shift\n",
    "* `offset` is the vertical shift, i.e. the sum between the minimum peak and the amplitude. Here some details about offset: https://www.ck12.org/book/ck-12-precalculus-concepts/section/5.4/\n",
    "\n",
    "For more details about sinusoids, you can give a look at: https://mathbitsnotebook.com/Algebra2/TrigGraphs/TGsinusoidal.html"
   ]
  },
  {
   "cell_type": "code",
   "execution_count": 6,
   "metadata": {
    "colab": {},
    "colab_type": "code",
    "id": "bkqJm-S5vLZw"
   },
   "outputs": [],
   "source": [
    "def sinusoid(x,A,offset,omega,phase):\n",
    "    return A*np.sin(omega*x+phase) + offset"
   ]
  },
  {
   "cell_type": "markdown",
   "metadata": {
    "colab_type": "text",
    "id": "mVjizk-BvLZ0"
   },
   "source": [
    "We define also initial values for the sinusoid. We set the period `T = 12`, i.e. the number of months in a year. If the period is not known, we should calculate it. We could use the Fast Fourier Transform. At these links you can find more details about this aspect: https://stackoverflow.com/questions/16716302/how-do-i-fit-a-sine-curve-to-my-data-with-pylab-and-numpy, https://www.oreilly.com/library/view/elegant-scipy/9781491922927/ch04.html and https://docs.scipy.org/doc/numpy/reference/generated/numpy.fft.fft.html."
   ]
  },
  {
   "cell_type": "code",
   "execution_count": 7,
   "metadata": {
    "colab": {},
    "colab_type": "code",
    "id": "dHrWNg0wvLZ2"
   },
   "outputs": [],
   "source": [
    "T = 12\n",
    "def get_p0(x, y):\n",
    "    \n",
    "    A0 = (max(y[0:T]) - min(y[0:T]))/2\n",
    "    offset0 = y[0]\n",
    "    phase0 = 0\n",
    "    omega0 = 2.*np.pi/T\n",
    "    return [A0, offset0,omega0, phase0]"
   ]
  },
  {
   "cell_type": "markdown",
   "metadata": {
    "colab_type": "text",
    "id": "qTd70CYvvLZ5"
   },
   "source": [
    "Now we are ready to approximate our data with a sinusoid. We use the `curve_fit()` function provided by `scipy`. The we plot results. For more details about the `curve_fit()` function, please give a look at https://docs.scipy.org/doc/scipy/reference/generated/scipy.optimize.curve_fit.html."
   ]
  },
  {
   "cell_type": "code",
   "execution_count": 8,
   "metadata": {
    "colab": {
     "base_uri": "https://localhost:8080/",
     "height": 276
    },
    "colab_type": "code",
    "executionInfo": {
     "elapsed": 1648,
     "status": "ok",
     "timestamp": 1588079305646,
     "user": {
      "displayName": "Angelica Lo Duca",
      "photoUrl": "https://lh3.googleusercontent.com/a-/AOh14Ggso9VpaoC6b7-YibFA_8Qm-Td3IurPQuGu8ofIkg=s64",
      "userId": "13777285307189724523"
     },
     "user_tz": -120
    },
    "id": "hsYItPWXvLZ6",
    "outputId": "f704a75a-a188-427a-8978-4dc1353d864b"
   },
   "outputs": [
    {
     "data": {
      "image/png": "[encoded data removed]",
      "text/plain": [
       "<Figure size 432x288 with 1 Axes>"
      ]
     },
     "metadata": {
      "needs_background": "light"
     },
     "output_type": "display_data"
    }
   ],
   "source": [
    "from scipy.optimize import curve_fit\n",
    "import math\n",
    "\n",
    "param, covariance = curve_fit(sinusoid, X, y, p0=get_p0(X,y))\n",
    "\n",
    "step = 1\n",
    "x_ticks = np.arange(skip, skip+len(X)+step+12, step=12*step)\n",
    "x_labels = []\n",
    "x_labels.append(2012)\n",
    "for i in range(1, len(x_ticks)+13):\n",
    "    x_labels.append(x_labels[i-1]+step)\n",
    "plt.xticks(x_ticks, x_labels)\n",
    "plt.ylabel('Number of arrivals')\n",
    "plt.grid()\n",
    "plt.plot(X, y, color=\"red\", linewidth=1,linestyle='dashed')\n",
    "plt.plot(X, sinusoid(X, *param), color=\"blue\", linewidth=1)\n",
    "plt.show()"
   ]
  },
  {
   "cell_type": "code",
   "execution_count": 9,
   "metadata": {
    "colab": {
     "base_uri": "https://localhost:8080/",
     "height": 34
    },
    "colab_type": "code",
    "executionInfo": {
     "elapsed": 1274,
     "status": "ok",
     "timestamp": 1588079308818,
     "user": {
      "displayName": "Angelica Lo Duca",
      "photoUrl": "https://lh3.googleusercontent.com/a-/AOh14Ggso9VpaoC6b7-YibFA_8Qm-Td3IurPQuGu8ofIkg=s64",
      "userId": "13777285307189724523"
     },
     "user_tz": -120
    },
    "id": "eonP8gSj7oyu",
    "outputId": "de4519a1-3351-4ebe-8bbe-82b6aeff4a6c"
   },
   "outputs": [
    {
     "data": {
      "text/plain": [
       "array([5.56516196e+05, 3.94533199e+05, 1.60327365e-03, 5.00624559e-01])"
      ]
     },
     "execution_count": 9,
     "metadata": {},
     "output_type": "execute_result"
    }
   ],
   "source": [
    "perr = np.sqrt(np.diag(covariance))\n",
    "perr"
   ]
  },
  {
   "cell_type": "markdown",
   "metadata": {
    "colab_type": "text",
    "id": "s_cPcwoXvLZ9"
   },
   "source": [
    "We have approximated our data with a sinusoid with a constant value of `A`. In our case both the amplitude `A` and the `offset` are variable. The idea is to calculate all the maximum peaks and minimum peaks in our data. Then we can use their difference to calculate the vector of amplitudes and pass them to the `sinusoid()` function.\n",
    "\n",
    "We define the function `get_peaks()`, which calculates the peaks of an array. We sample the array every `T` elements and we calculate the peak within each `T`."
   ]
  },
  {
   "cell_type": "code",
   "execution_count": 10,
   "metadata": {
    "colab": {},
    "colab_type": "code",
    "id": "xBdwpFvYvLaA"
   },
   "outputs": [],
   "source": [
    "def get_peaks(y, metrics):\n",
    "    n = int(math.ceil(len(y)/T))\n",
    "    step = 0\n",
    "    x_peaks = []\n",
    "    y_peaks = []\n",
    "    for i in range(0,n):\n",
    "        peak_index = y.index(metrics(y[step:step+T]))\n",
    "        x_peaks.append(peak_index + skip)\n",
    "        y_peaks.append(y[peak_index])\n",
    "        step = step+T\n",
    "    return [x_peaks,y_peaks]"
   ]
  },
  {
   "cell_type": "markdown",
   "metadata": {
    "colab_type": "text",
    "id": "AW_Buv4SvLaD"
   },
   "source": [
    "We calculate the maximum and minimum peaks."
   ]
  },
  {
   "cell_type": "code",
   "execution_count": 11,
   "metadata": {
    "colab": {},
    "colab_type": "code",
    "id": "vHGOZvCQvLaE"
   },
   "outputs": [],
   "source": [
    "# approximate curve of peaks with\n",
    "min_peaks = get_peaks(y,min)\n",
    "max_peaks = get_peaks(y,max)"
   ]
  },
  {
   "cell_type": "markdown",
   "metadata": {
    "colab_type": "text",
    "id": "SmtktJtAvLaI"
   },
   "source": [
    "Now we can calculate the array of amplitudes and offsets."
   ]
  },
  {
   "cell_type": "code",
   "execution_count": 12,
   "metadata": {
    "colab": {},
    "colab_type": "code",
    "id": "k29nge4yvLaJ"
   },
   "outputs": [],
   "source": [
    "#calculate variable amplitude and variable offset\n",
    "A = []\n",
    "offset = []\n",
    "for i in range(0, len(min_peaks[1])):\n",
    "    c_a = (max_peaks[1][i] - min_peaks[1][i])/2\n",
    "    c_offset = min_peaks[1][i] + c_a\n",
    "    for j in range(0,T):\n",
    "        A.append(c_a)\n",
    "        offset.append(c_offset)\n",
    "# last two months of 2019 are not available\n",
    "A = A[:-2]\n",
    "offset = offset[:-2]"
   ]
  },
  {
   "cell_type": "markdown",
   "metadata": {
    "colab_type": "text",
    "id": "0-jprDvWvLaL"
   },
   "source": [
    "Since `A` and `offset` are new features, we should add them as variables. Thus we define a new variable `features`, which defines the new input features of our model. Then we define the function `variable_sinusoid()`, which takes the features as input. \n",
    "\n",
    "The only parameters returned by our model are `omega` and `phase` thus we modify also the function `get_p0()` with initial values of `omega` and `phase`. The new function is called `variable_get_p0()`."
   ]
  },
  {
   "cell_type": "code",
   "execution_count": 13,
   "metadata": {
    "colab": {},
    "colab_type": "code",
    "id": "qknJCJUvvLaM",
    "scrolled": true
   },
   "outputs": [],
   "source": [
    "features = [X, A, offset]\n",
    "\n",
    "def variable_sinusoid(features,omega,phase):\n",
    "    x = features[0]\n",
    "    A = features[1]\n",
    "    offset = features[2]\n",
    "    return A*np.sin(omega*x+phase) + offset\n",
    "\n",
    "def variable_get_p0(x, y): \n",
    "    phase0 = 0\n",
    "    omega0 = 2.*np.pi/T\n",
    "    return [omega0, phase0]"
   ]
  },
  {
   "cell_type": "markdown",
   "metadata": {
    "colab_type": "text",
    "id": "Xyr_qjDSvLaO"
   },
   "source": [
    "We fit the model and plot results."
   ]
  },
  {
   "cell_type": "code",
   "execution_count": 30,
   "metadata": {
    "colab": {
     "base_uri": "https://localhost:8080/",
     "height": 276
    },
    "colab_type": "code",
    "executionInfo": {
     "elapsed": 4775,
     "status": "ok",
     "timestamp": 1588079372693,
     "user": {
      "displayName": "Angelica Lo Duca",
      "photoUrl": "https://lh3.googleusercontent.com/a-/AOh14Ggso9VpaoC6b7-YibFA_8Qm-Td3IurPQuGu8ofIkg=s64",
      "userId": "13777285307189724523"
     },
     "user_tz": -120
    },
    "id": "77beJjcUvLaP",
    "outputId": "b7677f52-e3e3-4d33-bd98-39471f959129"
   },
   "outputs": [
    {
     "ename": "ValueError",
     "evalue": "setting an array element with a sequence.",
     "output_type": "error",
     "traceback": [
      "\u001b[0;31m---------------------------------------------------------------------------\u001b[0m",
      "\u001b[0;31mTypeError\u001b[0m                                 Traceback (most recent call last)",
      "\u001b[0;31mTypeError\u001b[0m: only size-1 arrays can be converted to Python scalars",
      "\nThe above exception was the direct cause of the following exception:\n",
      "\u001b[0;31mValueError\u001b[0m                                Traceback (most recent call last)",
      "\u001b[0;32m<ipython-input-30-c1e63eb7397a>\u001b[0m in \u001b[0;36m<module>\u001b[0;34m\u001b[0m\n\u001b[0;32m----> 1\u001b[0;31m \u001b[0mparam\u001b[0m\u001b[0;34m,\u001b[0m \u001b[0mcovariance\u001b[0m \u001b[0;34m=\u001b[0m \u001b[0mcurve_fit\u001b[0m\u001b[0;34m(\u001b[0m\u001b[0mvariable_sinusoid\u001b[0m\u001b[0;34m,\u001b[0m \u001b[0mfeatures\u001b[0m\u001b[0;34m,\u001b[0m \u001b[0my\u001b[0m\u001b[0;34m,\u001b[0m \u001b[0mp0\u001b[0m\u001b[0;34m=\u001b[0m\u001b[0mvariable_get_p0\u001b[0m\u001b[0;34m(\u001b[0m\u001b[0mX\u001b[0m\u001b[0;34m,\u001b[0m\u001b[0my\u001b[0m\u001b[0;34m)\u001b[0m\u001b[0;34m)\u001b[0m\u001b[0;34m\u001b[0m\u001b[0;34m\u001b[0m\u001b[0m\n\u001b[0m\u001b[1;32m      2\u001b[0m \u001b[0;34m\u001b[0m\u001b[0m\n\u001b[1;32m      3\u001b[0m \u001b[0mplt\u001b[0m\u001b[0;34m.\u001b[0m\u001b[0mxticks\u001b[0m\u001b[0;34m(\u001b[0m\u001b[0mx_ticks\u001b[0m\u001b[0;34m,\u001b[0m \u001b[0mx_labels\u001b[0m\u001b[0;34m)\u001b[0m\u001b[0;34m\u001b[0m\u001b[0;34m\u001b[0m\u001b[0m\n\u001b[1;32m      4\u001b[0m \u001b[0mplt\u001b[0m\u001b[0;34m.\u001b[0m\u001b[0mylabel\u001b[0m\u001b[0;34m(\u001b[0m\u001b[0;34m'Number of arrivals'\u001b[0m\u001b[0;34m)\u001b[0m\u001b[0;34m\u001b[0m\u001b[0;34m\u001b[0m\u001b[0m\n\u001b[1;32m      5\u001b[0m \u001b[0mplt\u001b[0m\u001b[0;34m.\u001b[0m\u001b[0mplot\u001b[0m\u001b[0;34m(\u001b[0m\u001b[0mX\u001b[0m\u001b[0;34m,\u001b[0m \u001b[0my\u001b[0m\u001b[0;34m,\u001b[0m \u001b[0mcolor\u001b[0m\u001b[0;34m=\u001b[0m\u001b[0;34m\"red\"\u001b[0m\u001b[0;34m,\u001b[0m \u001b[0mlinewidth\u001b[0m\u001b[0;34m=\u001b[0m\u001b[0;36m1\u001b[0m\u001b[0;34m,\u001b[0m\u001b[0mlinestyle\u001b[0m\u001b[0;34m=\u001b[0m\u001b[0;34m'dashed'\u001b[0m\u001b[0;34m,\u001b[0m \u001b[0mlabel\u001b[0m\u001b[0;34m=\u001b[0m\u001b[0;34m\"data\"\u001b[0m\u001b[0;34m)\u001b[0m\u001b[0;34m\u001b[0m\u001b[0;34m\u001b[0m\u001b[0m\n",
      "\u001b[0;32m/Library/Frameworks/Python.framework/Versions/3.8/lib/python3.8/site-packages/scipy/optimize/minpack.py\u001b[0m in \u001b[0;36mcurve_fit\u001b[0;34m(f, xdata, ydata, p0, sigma, absolute_sigma, check_finite, bounds, method, jac, **kwargs)\u001b[0m\n\u001b[1;32m    719\u001b[0m         \u001b[0;31m# non-array_like `xdata`.\u001b[0m\u001b[0;34m\u001b[0m\u001b[0;34m\u001b[0m\u001b[0;34m\u001b[0m\u001b[0m\n\u001b[1;32m    720\u001b[0m         \u001b[0;32mif\u001b[0m \u001b[0mcheck_finite\u001b[0m\u001b[0;34m:\u001b[0m\u001b[0;34m\u001b[0m\u001b[0;34m\u001b[0m\u001b[0m\n\u001b[0;32m--> 721\u001b[0;31m             \u001b[0mxdata\u001b[0m \u001b[0;34m=\u001b[0m \u001b[0mnp\u001b[0m\u001b[0;34m.\u001b[0m\u001b[0masarray_chkfinite\u001b[0m\u001b[0;34m(\u001b[0m\u001b[0mxdata\u001b[0m\u001b[0;34m,\u001b[0m \u001b[0mfloat\u001b[0m\u001b[0;34m)\u001b[0m\u001b[0;34m\u001b[0m\u001b[0;34m\u001b[0m\u001b[0m\n\u001b[0m\u001b[1;32m    722\u001b[0m         \u001b[0;32melse\u001b[0m\u001b[0;34m:\u001b[0m\u001b[0;34m\u001b[0m\u001b[0;34m\u001b[0m\u001b[0m\n\u001b[1;32m    723\u001b[0m             \u001b[0mxdata\u001b[0m \u001b[0;34m=\u001b[0m \u001b[0mnp\u001b[0m\u001b[0;34m.\u001b[0m\u001b[0masarray\u001b[0m\u001b[0;34m(\u001b[0m\u001b[0mxdata\u001b[0m\u001b[0;34m,\u001b[0m \u001b[0mfloat\u001b[0m\u001b[0;34m)\u001b[0m\u001b[0;34m\u001b[0m\u001b[0;34m\u001b[0m\u001b[0m\n",
      "\u001b[0;32m/Library/Frameworks/Python.framework/Versions/3.8/lib/python3.8/site-packages/numpy/lib/function_base.py\u001b[0m in \u001b[0;36masarray_chkfinite\u001b[0;34m(a, dtype, order)\u001b[0m\n\u001b[1;32m    494\u001b[0m \u001b[0;34m\u001b[0m\u001b[0m\n\u001b[1;32m    495\u001b[0m     \"\"\"\n\u001b[0;32m--> 496\u001b[0;31m     \u001b[0ma\u001b[0m \u001b[0;34m=\u001b[0m \u001b[0masarray\u001b[0m\u001b[0;34m(\u001b[0m\u001b[0ma\u001b[0m\u001b[0;34m,\u001b[0m \u001b[0mdtype\u001b[0m\u001b[0;34m=\u001b[0m\u001b[0mdtype\u001b[0m\u001b[0;34m,\u001b[0m \u001b[0morder\u001b[0m\u001b[0;34m=\u001b[0m\u001b[0morder\u001b[0m\u001b[0;34m)\u001b[0m\u001b[0;34m\u001b[0m\u001b[0;34m\u001b[0m\u001b[0m\n\u001b[0m\u001b[1;32m    497\u001b[0m     \u001b[0;32mif\u001b[0m \u001b[0ma\u001b[0m\u001b[0;34m.\u001b[0m\u001b[0mdtype\u001b[0m\u001b[0;34m.\u001b[0m\u001b[0mchar\u001b[0m \u001b[0;32min\u001b[0m \u001b[0mtypecodes\u001b[0m\u001b[0;34m[\u001b[0m\u001b[0;34m'AllFloat'\u001b[0m\u001b[0;34m]\u001b[0m \u001b[0;32mand\u001b[0m \u001b[0;32mnot\u001b[0m \u001b[0mnp\u001b[0m\u001b[0;34m.\u001b[0m\u001b[0misfinite\u001b[0m\u001b[0;34m(\u001b[0m\u001b[0ma\u001b[0m\u001b[0;34m)\u001b[0m\u001b[0;34m.\u001b[0m\u001b[0mall\u001b[0m\u001b[0;34m(\u001b[0m\u001b[0;34m)\u001b[0m\u001b[0;34m:\u001b[0m\u001b[0;34m\u001b[0m\u001b[0;34m\u001b[0m\u001b[0m\n\u001b[1;32m    498\u001b[0m         raise ValueError(\n",
      "\u001b[0;32m/Library/Frameworks/Python.framework/Versions/3.8/lib/python3.8/site-packages/numpy/core/_asarray.py\u001b[0m in \u001b[0;36masarray\u001b[0;34m(a, dtype, order)\u001b[0m\n\u001b[1;32m     83\u001b[0m \u001b[0;34m\u001b[0m\u001b[0m\n\u001b[1;32m     84\u001b[0m     \"\"\"\n\u001b[0;32m---> 85\u001b[0;31m     \u001b[0;32mreturn\u001b[0m \u001b[0marray\u001b[0m\u001b[0;34m(\u001b[0m\u001b[0ma\u001b[0m\u001b[0;34m,\u001b[0m \u001b[0mdtype\u001b[0m\u001b[0;34m,\u001b[0m \u001b[0mcopy\u001b[0m\u001b[0;34m=\u001b[0m\u001b[0;32mFalse\u001b[0m\u001b[0;34m,\u001b[0m \u001b[0morder\u001b[0m\u001b[0;34m=\u001b[0m\u001b[0morder\u001b[0m\u001b[0;34m)\u001b[0m\u001b[0;34m\u001b[0m\u001b[0;34m\u001b[0m\u001b[0m\n\u001b[0m\u001b[1;32m     86\u001b[0m \u001b[0;34m\u001b[0m\u001b[0m\n\u001b[1;32m     87\u001b[0m \u001b[0;34m\u001b[0m\u001b[0m\n",
      "\u001b[0;31mValueError\u001b[0m: setting an array element with a sequence."
     ]
    }
   ],
   "source": [
    "param, covariance = curve_fit(variable_sinusoid, features, y, p0=variable_get_p0(X,y))\n",
    "\n",
    "plt.xticks(x_ticks, x_labels)\n",
    "plt.ylabel('Number of arrivals')\n",
    "plt.plot(X, y, color=\"red\", linewidth=1,linestyle='dashed', label=\"data\")\n",
    "plt.plot(X, variable_sinusoid(features, *param), color=\"blue\", linewidth=1, label=\"model\")\n",
    "plt.grid()\n",
    "plt.legend()\n",
    "plt.savefig(\"plots/sinusoid-IT.png\")\n",
    "plt.show()"
   ]
  },
  {
   "cell_type": "markdown",
   "metadata": {
    "colab_type": "text",
    "id": "UTVZmMKi37QW"
   },
   "source": [
    "Calculate error. r squared https://stackoverflow.com/questions/19189362/getting-the-r-squared-value-using-curve-fit\n",
    "https://www.datavedas.com/model-evaluation-regression-models/"
   ]
  },
  {
   "cell_type": "code",
   "execution_count": 15,
   "metadata": {
    "colab": {
     "base_uri": "https://localhost:8080/",
     "height": 34
    },
    "colab_type": "code",
    "executionInfo": {
     "elapsed": 1410,
     "status": "ok",
     "timestamp": 1588079385954,
     "user": {
      "displayName": "Angelica Lo Duca",
      "photoUrl": "https://lh3.googleusercontent.com/a-/AOh14Ggso9VpaoC6b7-YibFA_8Qm-Td3IurPQuGu8ofIkg=s64",
      "userId": "13777285307189724523"
     },
     "user_tz": -120
    },
    "id": "NdfUoRR6353M",
    "outputId": "c045f7b8-ef51-4bfd-8588-2654b6cb794c"
   },
   "outputs": [
    {
     "data": {
      "text/plain": [
       "0.7685794390616205"
      ]
     },
     "execution_count": 15,
     "metadata": {},
     "output_type": "execute_result"
    }
   ],
   "source": [
    "#perr = np.sqrt(np.diag(covariance))\n",
    "y_pred = variable_sinusoid(features, *param)\n",
    "residuals = y - y_pred\n",
    "ss_res = np.sum(residuals**2)\n",
    "ss_tot = np.sum((y-np.mean(y))**2)\n",
    "r_squared = 1 - (ss_res / ss_tot)\n",
    "r_squared\n",
    "#y_pred = variable_sinusoid(features, *param)\n",
    "#RMSE = np.sqrt(np.sum((y_pred - y)**2)/n)\n",
    "#RMSE"
   ]
  },
  {
   "cell_type": "code",
   "execution_count": 16,
   "metadata": {
    "colab": {
     "base_uri": "https://localhost:8080/",
     "height": 34
    },
    "colab_type": "code",
    "executionInfo": {
     "elapsed": 883,
     "status": "ok",
     "timestamp": 1588079438009,
     "user": {
      "displayName": "Angelica Lo Duca",
      "photoUrl": "https://lh3.googleusercontent.com/a-/AOh14Ggso9VpaoC6b7-YibFA_8Qm-Td3IurPQuGu8ofIkg=s64",
      "userId": "13777285307189724523"
     },
     "user_tz": -120
    },
    "id": "MH1Y6j_rPhzA",
    "outputId": "66b4d441-a141-4816-f415-8d938a029024"
   },
   "outputs": [
    {
     "data": {
      "text/plain": [
       "(0.9404707087377902, 6.702832116598786e-45)"
      ]
     },
     "execution_count": 16,
     "metadata": {},
     "output_type": "execute_result"
    }
   ],
   "source": [
    "from scipy import stats\n",
    "z_score_it = stats.zscore(y)\n",
    "z_score_pt = stats.zscore(y_pred)\n",
    "stats.pearsonr(y_pred, y) "
   ]
  },
  {
   "cell_type": "markdown",
   "metadata": {
    "colab_type": "text",
    "id": "YkS5UAfZvLaR"
   },
   "source": [
    "## Predicting the future trendline\n",
    "The next step involves the prediction of the next sinusoid, i.e. the sinusoid for year 2020. In order to do it, we need to calculate the next max and minimum peaks. We can do it by approximating the vector of maximum and minimum peaks with two linear regressions, respectively. Then, we can calculate the maximum peak at instant i (August 2020) as the y value of the maximum linear regression given at instant (i-1) + pi (i-1 represents August 2019). Similarly, we can calculate the minimum peak for year 2020.\n",
    "\n",
    "Firstly, we reshape the peaks to be passed to the linear model. Then, we build two linear models, one for each predicting line, using the `sklearn` class `LinearRegression()`. After that, we fit every model using the `fit()` function."
   ]
  },
  {
   "cell_type": "code",
   "execution_count": 17,
   "metadata": {
    "colab": {
     "base_uri": "https://localhost:8080/",
     "height": 34
    },
    "colab_type": "code",
    "executionInfo": {
     "elapsed": 1165,
     "status": "ok",
     "timestamp": 1588079498322,
     "user": {
      "displayName": "Angelica Lo Duca",
      "photoUrl": "https://lh3.googleusercontent.com/a-/AOh14Ggso9VpaoC6b7-YibFA_8Qm-Td3IurPQuGu8ofIkg=s64",
      "userId": "13777285307189724523"
     },
     "user_tz": -120
    },
    "id": "vIdtSGjJvLaS",
    "outputId": "1b44735d-ca6b-411f-8d8e-19171ac542bc"
   },
   "outputs": [
    {
     "data": {
      "text/plain": [
       "LinearRegression(copy_X=True, fit_intercept=True, n_jobs=None, normalize=False)"
      ]
     },
     "execution_count": 17,
     "metadata": {},
     "output_type": "execute_result"
    }
   ],
   "source": [
    "from sklearn import linear_model\n",
    "\n",
    "# reshape x_peaks\n",
    "x_min_peaks = list(map(lambda el:[el], min_peaks[0])) \n",
    "x_max_peaks = list(map(lambda el:[el], max_peaks[0])) \n",
    "\n",
    "# min model\n",
    "model_min = linear_model.LinearRegression()\n",
    "model_min.fit(x_min_peaks,min_peaks[1])\n",
    "\n",
    "# max model\n",
    "model_max = linear_model.LinearRegression()\n",
    "model_max.fit(x_max_peaks,max_peaks[1])"
   ]
  },
  {
   "cell_type": "markdown",
   "metadata": {
    "colab_type": "text",
    "id": "w2D7DsMWvLaV"
   },
   "source": [
    "We append the next peaks both to `x_max_peaks` and `x_min_peaks` and then we predict the maximum and minimum peaks through the `predict()` function."
   ]
  },
  {
   "cell_type": "code",
   "execution_count": 18,
   "metadata": {
    "colab": {},
    "colab_type": "code",
    "id": "D3xP7JEWvLaW"
   },
   "outputs": [],
   "source": [
    "x_min_peaks.append([x_min_peaks[len(x_min_peaks) -1][0] + T])\n",
    "x_max_peaks.append([x_max_peaks[len(x_max_peaks) -1][0] + T])\n",
    "y_pred_min = model_min.predict(x_min_peaks)\n",
    "y_pred_max = model_max.predict(x_max_peaks)"
   ]
  },
  {
   "cell_type": "code",
   "execution_count": 19,
   "metadata": {
    "colab": {
     "base_uri": "https://localhost:8080/",
     "height": 68
    },
    "colab_type": "code",
    "executionInfo": {
     "elapsed": 907,
     "status": "ok",
     "timestamp": 1588079623862,
     "user": {
      "displayName": "Angelica Lo Duca",
      "photoUrl": "https://lh3.googleusercontent.com/a-/AOh14Ggso9VpaoC6b7-YibFA_8Qm-Td3IurPQuGu8ofIkg=s64",
      "userId": "13777285307189724523"
     },
     "user_tz": -120
    },
    "id": "OaiCpK7T6kZK",
    "outputId": "ce4b7da1-9308-48c4-a2dc-495566155500"
   },
   "outputs": [
    {
     "name": "stdout",
     "output_type": "stream",
     "text": [
      "Mean Absolute Error: 1380451.8717328166\n",
      "Mean Squared Error: 3285897513276.176\n",
      "Root Mean Squared Error: 1812704.4748872265\n"
     ]
    }
   ],
   "source": [
    "from sklearn import metrics\n",
    "print('Mean Absolute Error:', metrics.mean_absolute_error(min_peaks[1], y_pred_min[:-1]))  \n",
    "print('Mean Squared Error:', metrics.mean_squared_error(min_peaks[1], y_pred_min[:-1]))  \n",
    "print('Root Mean Squared Error:', np.sqrt(metrics.mean_squared_error(min_peaks[1], y_pred_min[:-1])))"
   ]
  },
  {
   "cell_type": "code",
   "execution_count": 20,
   "metadata": {
    "colab": {
     "base_uri": "https://localhost:8080/",
     "height": 34
    },
    "colab_type": "code",
    "executionInfo": {
     "elapsed": 7142,
     "status": "ok",
     "timestamp": 1588079841103,
     "user": {
      "displayName": "Angelica Lo Duca",
      "photoUrl": "https://lh3.googleusercontent.com/a-/AOh14Ggso9VpaoC6b7-YibFA_8Qm-Td3IurPQuGu8ofIkg=s64",
      "userId": "13777285307189724523"
     },
     "user_tz": -120
    },
    "id": "Vq7CDHNy7VdV",
    "outputId": "38ca7429-24c7-4abb-c511-92ffebca05ca"
   },
   "outputs": [
    {
     "data": {
      "text/plain": [
       "(0.7910657830824168, 0.01937803112685575)"
      ]
     },
     "execution_count": 20,
     "metadata": {},
     "output_type": "execute_result"
    }
   ],
   "source": [
    "from scipy import stats\n",
    "stats.pearsonr(y_pred_min[:-1], min_peaks[1]) "
   ]
  },
  {
   "cell_type": "code",
   "execution_count": 21,
   "metadata": {
    "colab": {
     "base_uri": "https://localhost:8080/",
     "height": 34
    },
    "colab_type": "code",
    "executionInfo": {
     "elapsed": 1001,
     "status": "ok",
     "timestamp": 1588080088614,
     "user": {
      "displayName": "Angelica Lo Duca",
      "photoUrl": "https://lh3.googleusercontent.com/a-/AOh14Ggso9VpaoC6b7-YibFA_8Qm-Td3IurPQuGu8ofIkg=s64",
      "userId": "13777285307189724523"
     },
     "user_tz": -120
    },
    "id": "CXfykVbW8tZJ",
    "outputId": "e389e901-0c7f-4e51-d54d-7e22dac1be83"
   },
   "outputs": [
    {
     "data": {
      "text/plain": [
       "(0.9517322530410323, 0.00027105354449703545)"
      ]
     },
     "execution_count": 21,
     "metadata": {},
     "output_type": "execute_result"
    }
   ],
   "source": [
    "stats.pearsonr(y_pred_max[:-1], max_peaks[1]) "
   ]
  },
  {
   "cell_type": "markdown",
   "metadata": {
    "colab_type": "text",
    "id": "7qjj_g26vLab"
   },
   "source": [
    "We plot the two predicting lines."
   ]
  },
  {
   "cell_type": "code",
   "execution_count": 23,
   "metadata": {
    "colab": {
     "base_uri": "https://localhost:8080/",
     "height": 276
    },
    "colab_type": "code",
    "executionInfo": {
     "elapsed": 1462,
     "status": "ok",
     "timestamp": 1587311544020,
     "user": {
      "displayName": "Angelica Lo Duca",
      "photoUrl": "https://lh3.googleusercontent.com/a-/AOh14Ggso9VpaoC6b7-YibFA_8Qm-Td3IurPQuGu8ofIkg=s64",
      "userId": "13777285307189724523"
     },
     "user_tz": -120
    },
    "id": "_dIlhObNvLac",
    "outputId": "6396adc1-01e9-4e48-951e-14e8e5374ea7"
   },
   "outputs": [
    {
     "data": {
      "image/png": "[encoded data removed]",
      "text/plain": [
       "<Figure size 432x288 with 1 Axes>"
      ]
     },
     "metadata": {
      "needs_background": "light"
     },
     "output_type": "display_data"
    }
   ],
   "source": [
    "plt.xticks(x_ticks, x_labels)\n",
    "plt.plot(X, y, color=\"red\", linewidth=1,linestyle='dashed')\n",
    "plt.plot(x_min_peaks, y_pred_min, color=\"green\", linewidth=1,linestyle='dashed')\n",
    "plt.plot(x_max_peaks, y_pred_max, color=\"green\", linewidth=1,linestyle='dashed')\n",
    "plt.ylabel('Number of arrivals')\n",
    "plt.grid()\n",
    "plt.savefig(\"data/lines-IT.png\")\n",
    "plt.show()\n"
   ]
  },
  {
   "cell_type": "markdown",
   "metadata": {
    "colab_type": "text",
    "id": "hrI90uugvLag"
   },
   "source": [
    "We calculate the sinusoid for all the period, including 2020. We build a variable `X_pred`, which contains `X` and the 12 months of 2020."
   ]
  },
  {
   "cell_type": "code",
   "execution_count": 24,
   "metadata": {
    "colab": {
     "base_uri": "https://localhost:8080/",
     "height": 34
    },
    "colab_type": "code",
    "executionInfo": {
     "elapsed": 676,
     "status": "ok",
     "timestamp": 1587311545839,
     "user": {
      "displayName": "Angelica Lo Duca",
      "photoUrl": "https://lh3.googleusercontent.com/a-/AOh14Ggso9VpaoC6b7-YibFA_8Qm-Td3IurPQuGu8ofIkg=s64",
      "userId": "13777285307189724523"
     },
     "user_tz": -120
    },
    "id": "60Xz3MlOvLah",
    "outputId": "c6dd8c36-2e96-4294-ddfe-25bd59ef4616"
   },
   "outputs": [
    {
     "data": {
      "text/plain": [
       "106"
      ]
     },
     "execution_count": 24,
     "metadata": {},
     "output_type": "execute_result"
    }
   ],
   "source": [
    "X_pred = np.array(X)\n",
    "month = X_pred[len(X_pred)-1] + 1\n",
    "for i in range(0,T):\n",
    "    X_pred = np.append(X_pred,month)\n",
    "    month = month + 1\n",
    "len(X_pred)"
   ]
  },
  {
   "cell_type": "markdown",
   "metadata": {
    "colab_type": "text",
    "id": "yPSXHahgvLaj"
   },
   "source": [
    "Now, we can update the variable `features_pred` to be passed to the `variable_sinusoid()` function. Firstly, we update the amplitude `A` and the `offset` with new values and then we update the `features_pred` variable."
   ]
  },
  {
   "cell_type": "code",
   "execution_count": 25,
   "metadata": {
    "colab": {
     "base_uri": "https://localhost:8080/",
     "height": 85
    },
    "colab_type": "code",
    "executionInfo": {
     "elapsed": 952,
     "status": "ok",
     "timestamp": 1587311609793,
     "user": {
      "displayName": "Angelica Lo Duca",
      "photoUrl": "https://lh3.googleusercontent.com/a-/AOh14Ggso9VpaoC6b7-YibFA_8Qm-Td3IurPQuGu8ofIkg=s64",
      "userId": "13777285307189724523"
     },
     "user_tz": -120
    },
    "id": "8pXpCI-uvLaj",
    "outputId": "6e8479bf-908a-4d77-fb59-746788ec5544"
   },
   "outputs": [
    {
     "name": "stdout",
     "output_type": "stream",
     "text": [
      "[ 6134813.49532107  7145413.99096483  8156014.48660858 10008782.06195547\n",
      " 11019382.55759922 11187815.97353985 12198416.46918361 13209016.96482736\n",
      " 14219617.46047112]\n"
     ]
    },
    {
     "data": {
      "text/plain": [
       "106"
      ]
     },
     "execution_count": 25,
     "metadata": {},
     "output_type": "execute_result"
    }
   ],
   "source": [
    "print(y_pred_min)\n",
    "index = len(y_pred_min)-1\n",
    "#print(max_peaks[0])\n",
    "#c_a = (max_peaks[1][index] - min_peaks[1][index])/2\n",
    "c_a = (y_pred_max[index] - y_pred_min[index])/2\n",
    "#c_offset = min_peaks[1][index] + c_a\n",
    "c_offset = y_pred_min[index] + c_a\n",
    "for j in range(0,T):\n",
    "        A.append(c_a)\n",
    "        offset.append(c_offset)\n",
    "\n",
    "features_pred = [X_pred,A,offset]\n",
    "len(A)"
   ]
  },
  {
   "cell_type": "markdown",
   "metadata": {
    "colab_type": "text",
    "id": "Wy-0NpD2vLam"
   },
   "source": [
    "Finally, we plot graphs."
   ]
  },
  {
   "cell_type": "code",
   "execution_count": 27,
   "metadata": {
    "colab": {
     "base_uri": "https://localhost:8080/",
     "height": 276
    },
    "colab_type": "code",
    "executionInfo": {
     "elapsed": 1722,
     "status": "ok",
     "timestamp": 1587311615359,
     "user": {
      "displayName": "Angelica Lo Duca",
      "photoUrl": "https://lh3.googleusercontent.com/a-/AOh14Ggso9VpaoC6b7-YibFA_8Qm-Td3IurPQuGu8ofIkg=s64",
      "userId": "13777285307189724523"
     },
     "user_tz": -120
    },
    "id": "9EtRFrKSvLan",
    "outputId": "47df12a2-4fc7-4fe5-bed8-27a83b3ee3f6"
   },
   "outputs": [
    {
     "data": {
      "image/png": "[encoded data removed]",
      "text/plain": [
       "<Figure size 432x288 with 1 Axes>"
      ]
     },
     "metadata": {
      "needs_background": "light"
     },
     "output_type": "display_data"
    }
   ],
   "source": [
    "plt.xticks(x_ticks, x_labels)\n",
    "plt.plot(X, y, color=\"red\", linewidth=1,linestyle='dashed', label=\"data\")\n",
    "plt.plot(X_pred, variable_sinusoid(features_pred, *param), color=\"blue\", linewidth=1, label=\"model\")\n",
    "plt.scatter(x_min_peaks, y_pred_min, color=\"green\", linewidth=1,linestyle='dashed')\n",
    "plt.scatter(x_max_peaks, y_pred_max, color=\"green\", linewidth=1,linestyle='dashed')\n",
    "plt.grid()\n",
    "plt.legend()\n",
    "plt.ylabel('Number of arrivals')\n",
    "plt.savefig(\"data/sinusoid_IT_pred.png\")\n",
    "plt.show()"
   ]
  },
  {
   "cell_type": "markdown",
   "metadata": {
    "colab_type": "text",
    "id": "zowzBXfxvLar"
   },
   "source": [
    "We also export predictions to a CSV file."
   ]
  },
  {
   "cell_type": "code",
   "execution_count": 29,
   "metadata": {
    "colab": {},
    "colab_type": "code",
    "id": "giuYWR2DvLar"
   },
   "outputs": [],
   "source": [
    "import csv\n",
    "\n",
    "table = []\n",
    "y_pred = variable_sinusoid(features_pred, *param)\n",
    "for i in range(0, len(X_pred)):\n",
    "    row = { 'x' : X_pred[i], 'y' : y_pred[i]}\n",
    "    table.append(row)\n",
    "\n",
    "names = table[0].keys()\n",
    "with open('data/arrivals_prediction.csv', 'w') as output_file:\n",
    "    dict_writer = csv.DictWriter(output_file, names)\n",
    "    dict_writer.writeheader()\n",
    "    dict_writer.writerows(table)"
   ]
  },
  {
   "cell_type": "code",
   "execution_count": 0,
   "metadata": {
    "colab": {},
    "colab_type": "code",
    "id": "7M1uubUYvLau"
   },
   "outputs": [],
   "source": []
  }
 ],
 "metadata": {
  "colab": {
   "name": "AnalyseTourism IT.ipynb",
   "provenance": []
  },
  "kernelspec": {
   "display_name": "Python 3",
   "language": "python",
   "name": "python3"
  },
  "language_info": {
   "codemirror_mode": {
    "name": "ipython",
    "version": 3
   },
   "file_extension": ".py",
   "mimetype": "text/x-python",
   "name": "python",
   "nbconvert_exporter": "python",
   "pygments_lexer": "ipython3",
   "version": "3.8.1"
  }
 },
 "nbformat": 4,
 "nbformat_minor": 1
}
