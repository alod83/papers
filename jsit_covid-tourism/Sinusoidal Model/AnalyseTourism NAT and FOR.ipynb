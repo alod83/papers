{
 "cells": [
  {
   "cell_type": "markdown",
   "metadata": {
    "colab_type": "text",
    "id": "IXInyF-5vLZc"
   },
   "source": [
    "# Predict Tourists Arrivals in Italy without COVID-19\n",
    "This notebook describes how to predict a variable sinusoid in Python.\n",
    "\n",
    "Data analysed: Arrivals at tourist accommodation establishments extracted from https://ec.europa.eu/eurostat/web/tourism/data/database\n",
    "Data are updated up to October 2019\n",
    "\n",
    "## Data import and cleaning\n",
    "Firstly, we read the CSV file and we select only data related to Italy (`df[df['geo'] == 'IT']`), in the form of numbers (`df[df['unit'] == 'NR']`) and referred to the sum of all data available (internal and external arrivals) (`df[df['c_resid'] == 'TOTAL']`).\n",
    "\n",
    "Then we remove unuseful columns through the function `drop()`. Note that we pass the parameter `inplace=True` to store effects in the original variable `df`."
   ]
  },
  {
   "cell_type": "code",
   "execution_count": 37,
   "metadata": {
    "colab": {
     "base_uri": "https://localhost:8080/",
     "height": 563
    },
    "colab_type": "code",
    "executionInfo": {
     "elapsed": 1301,
     "status": "ok",
     "timestamp": 1588172152203,
     "user": {
      "displayName": "Angelica Lo Duca",
      "photoUrl": "https://lh3.googleusercontent.com/a-/AOh14Ggso9VpaoC6b7-YibFA_8Qm-Td3IurPQuGu8ofIkg=s64",
      "userId": "13777285307189724523"
     },
     "user_tz": -120
    },
    "id": "bMtqXYyZvLZc",
    "outputId": "fc60c3b5-6102-4e07-93d5-c4eb099278df"
   },
   "outputs": [
    {
     "data": {
      "text/html": [
       "<div>\n",
       "<style scoped>\n",
       "    .dataframe tbody tr th:only-of-type {\n",
       "        vertical-align: middle;\n",
       "    }\n",
       "\n",
       "    .dataframe tbody tr th {\n",
       "        vertical-align: top;\n",
       "    }\n",
       "\n",
       "    .dataframe thead th {\n",
       "        text-align: right;\n",
       "    }\n",
       "</style>\n",
       "<table border=\"1\" class=\"dataframe\">\n",
       "  <thead>\n",
       "    <tr style=\"text-align: right;\">\n",
       "      <th></th>\n",
       "      <th>c_resid</th>\n",
       "      <th>2019M10</th>\n",
       "      <th>2019M09</th>\n",
       "      <th>2019M08</th>\n",
       "      <th>2019M07</th>\n",
       "      <th>2019M06</th>\n",
       "      <th>2019M05</th>\n",
       "      <th>2019M04</th>\n",
       "      <th>2019M03</th>\n",
       "      <th>2019M02</th>\n",
       "      <th>...</th>\n",
       "      <th>1990M10</th>\n",
       "      <th>1990M09</th>\n",
       "      <th>1990M08</th>\n",
       "      <th>1990M07</th>\n",
       "      <th>1990M06</th>\n",
       "      <th>1990M05</th>\n",
       "      <th>1990M04</th>\n",
       "      <th>1990M03</th>\n",
       "      <th>1990M02</th>\n",
       "      <th>1990M01</th>\n",
       "    </tr>\n",
       "  </thead>\n",
       "  <tbody>\n",
       "    <tr>\n",
       "      <th>0</th>\n",
       "      <td>FOR</td>\n",
       "      <td>4292310</td>\n",
       "      <td>5510263</td>\n",
       "      <td>5295810</td>\n",
       "      <td>5895443</td>\n",
       "      <td>5375852</td>\n",
       "      <td>4682704</td>\n",
       "      <td>3855790</td>\n",
       "      <td>2810553</td>\n",
       "      <td>2252248</td>\n",
       "      <td>...</td>\n",
       "      <td>1867017</td>\n",
       "      <td>2352641</td>\n",
       "      <td>1905205</td>\n",
       "      <td>2080996</td>\n",
       "      <td>2008202</td>\n",
       "      <td>1973161</td>\n",
       "      <td>1816818</td>\n",
       "      <td>1131692</td>\n",
       "      <td>797728</td>\n",
       "      <td>595177</td>\n",
       "    </tr>\n",
       "    <tr>\n",
       "      <th>1</th>\n",
       "      <td>FOR</td>\n",
       "      <td>5598291</td>\n",
       "      <td>7687781</td>\n",
       "      <td>8224653</td>\n",
       "      <td>8954871</td>\n",
       "      <td>7855362</td>\n",
       "      <td>6313181</td>\n",
       "      <td>5124124</td>\n",
       "      <td>3365494</td>\n",
       "      <td>2695540</td>\n",
       "      <td>...</td>\n",
       "      <td>1965069</td>\n",
       "      <td>2691453</td>\n",
       "      <td>2643754</td>\n",
       "      <td>2869668</td>\n",
       "      <td>2446576</td>\n",
       "      <td>2201450</td>\n",
       "      <td>1977113</td>\n",
       "      <td>1182921</td>\n",
       "      <td>830420</td>\n",
       "      <td>617625</td>\n",
       "    </tr>\n",
       "    <tr>\n",
       "      <th>2</th>\n",
       "      <td>FOR</td>\n",
       "      <td>1083541</td>\n",
       "      <td>1599483</td>\n",
       "      <td>2010699</td>\n",
       "      <td>2137079</td>\n",
       "      <td>1730058</td>\n",
       "      <td>1207909</td>\n",
       "      <td>981254</td>\n",
       "      <td>520050</td>\n",
       "      <td>428164</td>\n",
       "      <td>...</td>\n",
       "      <td>:</td>\n",
       "      <td>:</td>\n",
       "      <td>:</td>\n",
       "      <td>:</td>\n",
       "      <td>:</td>\n",
       "      <td>:</td>\n",
       "      <td>:</td>\n",
       "      <td>:</td>\n",
       "      <td>:</td>\n",
       "      <td>:</td>\n",
       "    </tr>\n",
       "    <tr>\n",
       "      <th>3</th>\n",
       "      <td>FOR</td>\n",
       "      <td>1305981</td>\n",
       "      <td>2177518</td>\n",
       "      <td>2928843</td>\n",
       "      <td>3059428</td>\n",
       "      <td>2479510</td>\n",
       "      <td>1630477</td>\n",
       "      <td>1268334</td>\n",
       "      <td>554941</td>\n",
       "      <td>443292</td>\n",
       "      <td>...</td>\n",
       "      <td>98052</td>\n",
       "      <td>338812</td>\n",
       "      <td>738549</td>\n",
       "      <td>788672</td>\n",
       "      <td>438374</td>\n",
       "      <td>228289</td>\n",
       "      <td>160295</td>\n",
       "      <td>51229</td>\n",
       "      <td>32692</td>\n",
       "      <td>22448</td>\n",
       "    </tr>\n",
       "    <tr>\n",
       "      <th>4</th>\n",
       "      <td>FOR</td>\n",
       "      <td>222440</td>\n",
       "      <td>578035</td>\n",
       "      <td>918144</td>\n",
       "      <td>922349</td>\n",
       "      <td>749452</td>\n",
       "      <td>422568</td>\n",
       "      <td>287080</td>\n",
       "      <td>34891</td>\n",
       "      <td>15128</td>\n",
       "      <td>...</td>\n",
       "      <td>:</td>\n",
       "      <td>:</td>\n",
       "      <td>:</td>\n",
       "      <td>:</td>\n",
       "      <td>:</td>\n",
       "      <td>:</td>\n",
       "      <td>:</td>\n",
       "      <td>:</td>\n",
       "      <td>:</td>\n",
       "      <td>:</td>\n",
       "    </tr>\n",
       "    <tr>\n",
       "      <th>5</th>\n",
       "      <td>NAT</td>\n",
       "      <td>3400078</td>\n",
       "      <td>4378554</td>\n",
       "      <td>6353690</td>\n",
       "      <td>5611385</td>\n",
       "      <td>5179325</td>\n",
       "      <td>3801919</td>\n",
       "      <td>4140774</td>\n",
       "      <td>3631898</td>\n",
       "      <td>3149659</td>\n",
       "      <td>...</td>\n",
       "      <td>2515097</td>\n",
       "      <td>3520159</td>\n",
       "      <td>4309957</td>\n",
       "      <td>3457460</td>\n",
       "      <td>2993632</td>\n",
       "      <td>2765215</td>\n",
       "      <td>3290894</td>\n",
       "      <td>2643010</td>\n",
       "      <td>2073904</td>\n",
       "      <td>1948743</td>\n",
       "    </tr>\n",
       "    <tr>\n",
       "      <th>6</th>\n",
       "      <td>NAT</td>\n",
       "      <td>4181343</td>\n",
       "      <td>5693097</td>\n",
       "      <td>9521253</td>\n",
       "      <td>7921752</td>\n",
       "      <td>7215972</td>\n",
       "      <td>4792674</td>\n",
       "      <td>5427624</td>\n",
       "      <td>4339796</td>\n",
       "      <td>3667903</td>\n",
       "      <td>...</td>\n",
       "      <td>2609396</td>\n",
       "      <td>3862230</td>\n",
       "      <td>5769158</td>\n",
       "      <td>4561242</td>\n",
       "      <td>3548646</td>\n",
       "      <td>2968049</td>\n",
       "      <td>3521860</td>\n",
       "      <td>2742949</td>\n",
       "      <td>2152326</td>\n",
       "      <td>2018039</td>\n",
       "    </tr>\n",
       "    <tr>\n",
       "      <th>7</th>\n",
       "      <td>NAT</td>\n",
       "      <td>717339</td>\n",
       "      <td>1020939</td>\n",
       "      <td>2070053</td>\n",
       "      <td>1516411</td>\n",
       "      <td>1311205</td>\n",
       "      <td>799219</td>\n",
       "      <td>993908</td>\n",
       "      <td>650176</td>\n",
       "      <td>481965</td>\n",
       "      <td>...</td>\n",
       "      <td>:</td>\n",
       "      <td>:</td>\n",
       "      <td>:</td>\n",
       "      <td>:</td>\n",
       "      <td>:</td>\n",
       "      <td>:</td>\n",
       "      <td>:</td>\n",
       "      <td>:</td>\n",
       "      <td>:</td>\n",
       "      <td>:</td>\n",
       "    </tr>\n",
       "    <tr>\n",
       "      <th>8</th>\n",
       "      <td>NAT</td>\n",
       "      <td>781265</td>\n",
       "      <td>1314543</td>\n",
       "      <td>3167563</td>\n",
       "      <td>2310367</td>\n",
       "      <td>2036647</td>\n",
       "      <td>990755</td>\n",
       "      <td>1286850</td>\n",
       "      <td>707898</td>\n",
       "      <td>518244</td>\n",
       "      <td>...</td>\n",
       "      <td>94299</td>\n",
       "      <td>342071</td>\n",
       "      <td>1459201</td>\n",
       "      <td>1103782</td>\n",
       "      <td>555014</td>\n",
       "      <td>202834</td>\n",
       "      <td>230966</td>\n",
       "      <td>99939</td>\n",
       "      <td>78422</td>\n",
       "      <td>69296</td>\n",
       "    </tr>\n",
       "    <tr>\n",
       "      <th>9</th>\n",
       "      <td>NAT</td>\n",
       "      <td>63926</td>\n",
       "      <td>293604</td>\n",
       "      <td>1097510</td>\n",
       "      <td>793956</td>\n",
       "      <td>725442</td>\n",
       "      <td>191536</td>\n",
       "      <td>292942</td>\n",
       "      <td>57722</td>\n",
       "      <td>36279</td>\n",
       "      <td>...</td>\n",
       "      <td>:</td>\n",
       "      <td>:</td>\n",
       "      <td>:</td>\n",
       "      <td>:</td>\n",
       "      <td>:</td>\n",
       "      <td>:</td>\n",
       "      <td>:</td>\n",
       "      <td>:</td>\n",
       "      <td>:</td>\n",
       "      <td>:</td>\n",
       "    </tr>\n",
       "    <tr>\n",
       "      <th>10</th>\n",
       "      <td>TOTAL</td>\n",
       "      <td>7692388</td>\n",
       "      <td>9888817</td>\n",
       "      <td>11649500</td>\n",
       "      <td>11506828</td>\n",
       "      <td>10555177</td>\n",
       "      <td>8484623</td>\n",
       "      <td>7996564</td>\n",
       "      <td>6442451</td>\n",
       "      <td>5401907</td>\n",
       "      <td>...</td>\n",
       "      <td>4382114</td>\n",
       "      <td>5872800</td>\n",
       "      <td>6215162</td>\n",
       "      <td>5538456</td>\n",
       "      <td>5001834</td>\n",
       "      <td>4738376</td>\n",
       "      <td>5107712</td>\n",
       "      <td>3774702</td>\n",
       "      <td>2871632</td>\n",
       "      <td>2543920</td>\n",
       "    </tr>\n",
       "    <tr>\n",
       "      <th>11</th>\n",
       "      <td>TOTAL</td>\n",
       "      <td>9779634</td>\n",
       "      <td>13380878</td>\n",
       "      <td>17745906</td>\n",
       "      <td>16876623</td>\n",
       "      <td>15071334</td>\n",
       "      <td>11105855</td>\n",
       "      <td>10551748</td>\n",
       "      <td>7705290</td>\n",
       "      <td>6363443</td>\n",
       "      <td>...</td>\n",
       "      <td>4574465</td>\n",
       "      <td>6553683</td>\n",
       "      <td>8412912</td>\n",
       "      <td>7430910</td>\n",
       "      <td>5995222</td>\n",
       "      <td>5169499</td>\n",
       "      <td>5498973</td>\n",
       "      <td>3925870</td>\n",
       "      <td>2982746</td>\n",
       "      <td>2635664</td>\n",
       "    </tr>\n",
       "    <tr>\n",
       "      <th>12</th>\n",
       "      <td>TOTAL</td>\n",
       "      <td>1800880</td>\n",
       "      <td>2620422</td>\n",
       "      <td>4080752</td>\n",
       "      <td>3653490</td>\n",
       "      <td>3041263</td>\n",
       "      <td>2007128</td>\n",
       "      <td>1975162</td>\n",
       "      <td>1170226</td>\n",
       "      <td>910129</td>\n",
       "      <td>...</td>\n",
       "      <td>:</td>\n",
       "      <td>:</td>\n",
       "      <td>:</td>\n",
       "      <td>:</td>\n",
       "      <td>:</td>\n",
       "      <td>:</td>\n",
       "      <td>:</td>\n",
       "      <td>:</td>\n",
       "      <td>:</td>\n",
       "      <td>:</td>\n",
       "    </tr>\n",
       "    <tr>\n",
       "      <th>13</th>\n",
       "      <td>TOTAL</td>\n",
       "      <td>2087246</td>\n",
       "      <td>3492061</td>\n",
       "      <td>6096406</td>\n",
       "      <td>5369795</td>\n",
       "      <td>4516157</td>\n",
       "      <td>2621232</td>\n",
       "      <td>2555184</td>\n",
       "      <td>1262839</td>\n",
       "      <td>961536</td>\n",
       "      <td>...</td>\n",
       "      <td>192351</td>\n",
       "      <td>680883</td>\n",
       "      <td>2197750</td>\n",
       "      <td>1892454</td>\n",
       "      <td>993388</td>\n",
       "      <td>431123</td>\n",
       "      <td>391261</td>\n",
       "      <td>151168</td>\n",
       "      <td>111114</td>\n",
       "      <td>91744</td>\n",
       "    </tr>\n",
       "    <tr>\n",
       "      <th>14</th>\n",
       "      <td>TOTAL</td>\n",
       "      <td>286366</td>\n",
       "      <td>871639</td>\n",
       "      <td>2015654</td>\n",
       "      <td>1716305</td>\n",
       "      <td>1474894</td>\n",
       "      <td>614104</td>\n",
       "      <td>580022</td>\n",
       "      <td>92613</td>\n",
       "      <td>51407</td>\n",
       "      <td>...</td>\n",
       "      <td>:</td>\n",
       "      <td>:</td>\n",
       "      <td>:</td>\n",
       "      <td>:</td>\n",
       "      <td>:</td>\n",
       "      <td>:</td>\n",
       "      <td>:</td>\n",
       "      <td>:</td>\n",
       "      <td>:</td>\n",
       "      <td>:</td>\n",
       "    </tr>\n",
       "  </tbody>\n",
       "</table>\n",
       "<p>15 rows × 359 columns</p>\n",
       "</div>"
      ],
      "text/plain": [
       "   c_resid  2019M10   2019M09   2019M08   2019M07   2019M06   2019M05  \\\n",
       "0      FOR  4292310   5510263   5295810   5895443   5375852   4682704   \n",
       "1      FOR  5598291   7687781   8224653   8954871   7855362   6313181   \n",
       "2      FOR  1083541   1599483   2010699   2137079   1730058   1207909   \n",
       "3      FOR  1305981   2177518   2928843   3059428   2479510   1630477   \n",
       "4      FOR   222440    578035    918144    922349    749452    422568   \n",
       "5      NAT  3400078   4378554   6353690   5611385   5179325   3801919   \n",
       "6      NAT  4181343   5693097   9521253   7921752   7215972   4792674   \n",
       "7      NAT   717339   1020939   2070053   1516411   1311205    799219   \n",
       "8      NAT   781265   1314543   3167563   2310367   2036647    990755   \n",
       "9      NAT    63926    293604   1097510    793956    725442    191536   \n",
       "10   TOTAL  7692388   9888817  11649500  11506828  10555177   8484623   \n",
       "11   TOTAL  9779634  13380878  17745906  16876623  15071334  11105855   \n",
       "12   TOTAL  1800880   2620422   4080752   3653490   3041263   2007128   \n",
       "13   TOTAL  2087246   3492061   6096406   5369795   4516157   2621232   \n",
       "14   TOTAL   286366    871639   2015654   1716305   1474894    614104   \n",
       "\n",
       "     2019M04  2019M03  2019M02  ...  1990M10  1990M09  1990M08  1990M07  \\\n",
       "0    3855790  2810553  2252248  ...  1867017  2352641  1905205  2080996   \n",
       "1    5124124  3365494  2695540  ...  1965069  2691453  2643754  2869668   \n",
       "2     981254   520050   428164  ...        :        :        :        :   \n",
       "3    1268334   554941   443292  ...    98052   338812   738549   788672   \n",
       "4     287080    34891    15128  ...        :        :        :        :   \n",
       "5    4140774  3631898  3149659  ...  2515097  3520159  4309957  3457460   \n",
       "6    5427624  4339796  3667903  ...  2609396  3862230  5769158  4561242   \n",
       "7     993908   650176   481965  ...        :        :        :        :   \n",
       "8    1286850   707898   518244  ...    94299   342071  1459201  1103782   \n",
       "9     292942    57722    36279  ...        :        :        :        :   \n",
       "10   7996564  6442451  5401907  ...  4382114  5872800  6215162  5538456   \n",
       "11  10551748  7705290  6363443  ...  4574465  6553683  8412912  7430910   \n",
       "12   1975162  1170226   910129  ...        :        :        :        :   \n",
       "13   2555184  1262839   961536  ...   192351   680883  2197750  1892454   \n",
       "14    580022    92613    51407  ...        :        :        :        :   \n",
       "\n",
       "    1990M06  1990M05  1990M04  1990M03  1990M02  1990M01   \n",
       "0   2008202  1973161  1816818  1131692   797728   595177   \n",
       "1   2446576  2201450  1977113  1182921   830420   617625   \n",
       "2         :        :        :        :        :        :   \n",
       "3    438374   228289   160295    51229    32692    22448   \n",
       "4         :        :        :        :        :        :   \n",
       "5   2993632  2765215  3290894  2643010  2073904  1948743   \n",
       "6   3548646  2968049  3521860  2742949  2152326  2018039   \n",
       "7         :        :        :        :        :        :   \n",
       "8    555014   202834   230966    99939    78422    69296   \n",
       "9         :        :        :        :        :        :   \n",
       "10  5001834  4738376  5107712  3774702  2871632  2543920   \n",
       "11  5995222  5169499  5498973  3925870  2982746  2635664   \n",
       "12        :        :        :        :        :        :   \n",
       "13   993388   431123   391261   151168   111114    91744   \n",
       "14        :        :        :        :        :        :   \n",
       "\n",
       "[15 rows x 359 columns]"
      ]
     },
     "execution_count": 37,
     "metadata": {},
     "output_type": "execute_result"
    }
   ],
   "source": [
    "import pandas as pd\n",
    "df = pd.read_csv('data/eurostat.csv')\n",
    "df = df[df['geo'] == 'IT']\n",
    "df = df[df['unit'] == 'NR']\n",
    "#df = df[df['c_resid'] == 'TOTAL']\n",
    "df.drop([ 'unit', 'nace_r2', '2019M11', 'geo'],axis=1, inplace=True)\n",
    "df = df.reset_index()\n",
    "df.drop(['index'],axis=1, inplace=True)\n",
    "df"
   ]
  },
  {
   "cell_type": "markdown",
   "metadata": {
    "colab_type": "text",
    "id": "ivjwo54pvLZg"
   },
   "source": [
    "Now we can correct some errors in data: some rows contain the character `:`, which means no data available. Other rows contain the letter `b`. We change `:` in `0` and we remove the letter `b`."
   ]
  },
  {
   "cell_type": "code",
   "execution_count": 38,
   "metadata": {
    "colab": {},
    "colab_type": "code",
    "id": "TW0M6IFpvLZh"
   },
   "outputs": [],
   "source": [
    "columns = df.columns[::-1]\n",
    "for column in columns:\n",
    "    for row in range(1, len(df[column])):\n",
    "        if \"b\" in df[column][row]:\n",
    "            df[column] = df[column][row][:-2]\n",
    "        if \":\" in df[column][row]:\n",
    "            df[column][row] = \"0\""
   ]
  },
  {
   "cell_type": "markdown",
   "metadata": {
    "colab_type": "text",
    "id": "VJq0o3ywvLZk"
   },
   "source": [
    "Now we calculate the sum over the columns, in order to get the total number of arrivals for each month. We store results in the variable `y`."
   ]
  },
  {
   "cell_type": "code",
   "execution_count": 39,
   "metadata": {
    "colab": {},
    "colab_type": "code",
    "id": "5o4GTk0HvLZm"
   },
   "outputs": [],
   "source": [
    "import numpy as np\n",
    "y = []\n",
    "y_nat = []\n",
    "y_for = []\n",
    "national = df[df['c_resid'] == 'NAT']\n",
    "foreign = df[df['c_resid'] == 'FOR']\n",
    "total = df[df['c_resid'] == 'TOTAL']\n",
    "for column in columns:\n",
    "  if column != 'c_resid':  \n",
    "    curr_total = total[column].astype(str).astype(int)\n",
    "    y.append(curr_total.sum())\n",
    "\n",
    "    curr_national = national[column].astype(str).astype(int)\n",
    "    y_nat.append(curr_national.sum())\n",
    "\n",
    "    curr_foreign = foreign[column].astype(str).astype(int)\n",
    "    y_for.append(curr_foreign.sum())\n",
    "df.drop('c_resid', axis=1,inplace=True)"
   ]
  },
  {
   "cell_type": "code",
   "execution_count": 40,
   "metadata": {
    "colab": {
     "base_uri": "https://localhost:8080/",
     "height": 187
    },
    "colab_type": "code",
    "executionInfo": {
     "elapsed": 990,
     "status": "ok",
     "timestamp": 1588174108068,
     "user": {
      "displayName": "Angelica Lo Duca",
      "photoUrl": "https://lh3.googleusercontent.com/a-/AOh14Ggso9VpaoC6b7-YibFA_8Qm-Td3IurPQuGu8ofIkg=s64",
      "userId": "13777285307189724523"
     },
     "user_tz": -120
    },
    "id": "26f1zNfsdeP8",
    "outputId": "9e6e9570-25e0-4906-d327-491b60904976"
   },
   "outputs": [
    {
     "data": {
      "text/plain": [
       "[7169367,\n",
       " 7854050,\n",
       " 9387490,\n",
       " 12142098,\n",
       " 10576103,\n",
       " 16468591,\n",
       " 18153871,\n",
       " 22210069,\n",
       " 12700737,\n",
       " 9143951]"
      ]
     },
     "execution_count": 40,
     "metadata": {},
     "output_type": "execute_result"
    }
   ],
   "source": [
    "y_nat[len(y_nat)-10:]"
   ]
  },
  {
   "cell_type": "code",
   "execution_count": 41,
   "metadata": {
    "colab": {
     "base_uri": "https://localhost:8080/",
     "height": 187
    },
    "colab_type": "code",
    "executionInfo": {
     "elapsed": 834,
     "status": "ok",
     "timestamp": 1588174198550,
     "user": {
      "displayName": "Angelica Lo Duca",
      "photoUrl": "https://lh3.googleusercontent.com/a-/AOh14Ggso9VpaoC6b7-YibFA_8Qm-Td3IurPQuGu8ofIkg=s64",
      "userId": "13777285307189724523"
     },
     "user_tz": -120
    },
    "id": "q2kOvCbNjVVT",
    "outputId": "d5052662-6b84-4724-cd1d-afeaf77004cf"
   },
   "outputs": [
    {
     "data": {
      "text/plain": [
       "[4855335,\n",
       " 5834372,\n",
       " 7285929,\n",
       " 11516582,\n",
       " 14256839,\n",
       " 18190234,\n",
       " 20969170,\n",
       " 19378149,\n",
       " 17553080,\n",
       " 12502563]"
      ]
     },
     "execution_count": 41,
     "metadata": {},
     "output_type": "execute_result"
    }
   ],
   "source": [
    "y_for[len(y_for)-10:]"
   ]
  },
  {
   "cell_type": "code",
   "execution_count": 42,
   "metadata": {
    "colab": {},
    "colab_type": "code",
    "id": "VbF5w9U5Wqk6"
   },
   "outputs": [],
   "source": [
    "columns = df.columns[::-1]\n",
    "X = np.arange(0, len(columns))"
   ]
  },
  {
   "cell_type": "markdown",
   "metadata": {
    "colab_type": "text",
    "id": "AdVR8nhjvLZp"
   },
   "source": [
    "## Preliminary analysis\n",
    "We plot `y` to understand the trendline. We build the auxiliary vector `X`, which contains all the months. Month 0 refers to 1990 Genuary. In order to display x labels in the graph every 5 years, we build two auxiliary variables, `x_ticks` and `x_labels`."
   ]
  },
  {
   "cell_type": "code",
   "execution_count": 43,
   "metadata": {
    "colab": {
     "base_uri": "https://localhost:8080/",
     "height": 290
    },
    "colab_type": "code",
    "executionInfo": {
     "elapsed": 1799,
     "status": "ok",
     "timestamp": 1588172161139,
     "user": {
      "displayName": "Angelica Lo Duca",
      "photoUrl": "https://lh3.googleusercontent.com/a-/AOh14Ggso9VpaoC6b7-YibFA_8Qm-Td3IurPQuGu8ofIkg=s64",
      "userId": "13777285307189724523"
     },
     "user_tz": -120
    },
    "id": "V1M5S6fDvLZp",
    "outputId": "5dbb2490-4b71-43b8-b58a-9142f16c19bc"
   },
   "outputs": [
    {
     "data": {
      "image/png": "[encoded data removed]",
      "text/plain": [
       "<Figure size 432x288 with 1 Axes>"
      ]
     },
     "metadata": {
      "needs_background": "light"
     },
     "output_type": "display_data"
    }
   ],
   "source": [
    "import matplotlib.pyplot as plt\n",
    "import matplotlib\n",
    "\n",
    "\n",
    "\n",
    "\n",
    "step = 1\n",
    "x_ticks = np.arange(0, len(columns)+step, step=12*step)\n",
    "x_labels = []\n",
    "x_labels.append(1990)\n",
    "for i in range(1, len(x_ticks)+1):\n",
    "    x_labels.append(x_labels[i-1]+step)\n",
    "plt.xticks(x_ticks, x_labels)\n",
    "plt.plot(X, y, color=\"red\", linewidth=1, label=\"total\")\n",
    "plt.plot(X, y_nat, color=\"green\", linewidth=1, label=\"domestic\")\n",
    "plt.plot(X, y_for, color=\"blue\", linewidth=1,label=\"foreign\")\n",
    "plt.legend()\n",
    "plt.grid()\n",
    "plt.xlabel('Years')\n",
    "plt.ylabel('Number of arrivals')\n",
    "plt.savefig('plots/for_nat_trend.png')\n",
    "plt.show()"
   ]
  },
  {
   "cell_type": "markdown",
   "metadata": {
    "colab_type": "text",
    "id": "BTS0cHwxvLZs"
   },
   "source": [
    "We note that over the last 8 years there was an increase of the maximum peaks, with respect to the previous years. Thus we limit our analysis the last 8 years. This means that we should skip the first 22 years. We reset `X` and `y` to work only with the last years."
   ]
  },
  {
   "cell_type": "code",
   "execution_count": 44,
   "metadata": {
    "colab": {},
    "colab_type": "code",
    "id": "2CX_EIs7vLZt"
   },
   "outputs": [],
   "source": [
    "skip = 22*12\n",
    "X = X[skip:]\n",
    "y = y[skip:]\n",
    "y_nat = y_nat[skip:]\n",
    "y_for = y_for[skip:]"
   ]
  },
  {
   "cell_type": "markdown",
   "metadata": {
    "colab_type": "text",
    "id": "Cp4uLeu8vLZw"
   },
   "source": [
    "## Data approximation\n",
    "Now we can approximate data with a sinusoid. The equation of a sinusoid is `A*np.sin(omega*x+phase) + offset`, where:\n",
    "* |`A`| indicates the amplitude, i.e. half the distance between the maximum and minimum values of the function\n",
    "* `omega` is the number of cycles between 0 and 2pi. The period T is 2pi/omega\n",
    "* `phase` is the horizontal shift\n",
    "* `offset` is the vertical shift, i.e. the sum between the minimum peak and the amplitude. Here some details about offset: https://www.ck12.org/book/ck-12-precalculus-concepts/section/5.4/\n",
    "\n",
    "For more details about sinusoids, you can give a look at: https://mathbitsnotebook.com/Algebra2/TrigGraphs/TGsinusoidal.html"
   ]
  },
  {
   "cell_type": "code",
   "execution_count": 45,
   "metadata": {
    "colab": {},
    "colab_type": "code",
    "id": "bkqJm-S5vLZw"
   },
   "outputs": [],
   "source": [
    "def sinusoid(x,A,offset,omega,phase):\n",
    "    return A*np.sin(omega*x+phase) + offset"
   ]
  },
  {
   "cell_type": "markdown",
   "metadata": {
    "colab_type": "text",
    "id": "mVjizk-BvLZ0"
   },
   "source": [
    "We define also initial values for the sinusoid. We set the period `T = 12`, i.e. the number of months in a year. If the period is not known, we should calculate it. We could use the Fast Fourier Transform. At these links you can find more details about this aspect: https://stackoverflow.com/questions/16716302/how-do-i-fit-a-sine-curve-to-my-data-with-pylab-and-numpy, https://www.oreilly.com/library/view/elegant-scipy/9781491922927/ch04.html and https://docs.scipy.org/doc/numpy/reference/generated/numpy.fft.fft.html."
   ]
  },
  {
   "cell_type": "code",
   "execution_count": 46,
   "metadata": {
    "colab": {},
    "colab_type": "code",
    "id": "dHrWNg0wvLZ2"
   },
   "outputs": [],
   "source": [
    "T = 12\n",
    "def get_p0(x, y):\n",
    "    \n",
    "    A0 = (max(y[0:T]) - min(y[0:T]))/2\n",
    "    offset0 = y[0]\n",
    "    phase0 = 0\n",
    "    omega0 = 2.*np.pi/T\n",
    "    return [A0, offset0,omega0, phase0]"
   ]
  },
  {
   "cell_type": "markdown",
   "metadata": {
    "colab_type": "text",
    "id": "qTd70CYvvLZ5"
   },
   "source": [
    "Now we are ready to approximate our data with a sinusoid. We use the `curve_fit()` function provided by `scipy`. The we plot results. For more details about the `curve_fit()` function, please give a look at https://docs.scipy.org/doc/scipy/reference/generated/scipy.optimize.curve_fit.html."
   ]
  },
  {
   "cell_type": "code",
   "execution_count": 47,
   "metadata": {
    "colab": {
     "base_uri": "https://localhost:8080/",
     "height": 276
    },
    "colab_type": "code",
    "executionInfo": {
     "elapsed": 1447,
     "status": "ok",
     "timestamp": 1588172168176,
     "user": {
      "displayName": "Angelica Lo Duca",
      "photoUrl": "https://lh3.googleusercontent.com/a-/AOh14Ggso9VpaoC6b7-YibFA_8Qm-Td3IurPQuGu8ofIkg=s64",
      "userId": "13777285307189724523"
     },
     "user_tz": -120
    },
    "id": "hsYItPWXvLZ6",
    "outputId": "a2194e70-f48a-4ff4-8343-7f5051d1e33c"
   },
   "outputs": [
    {
     "data": {
      "image/png": "[encoded data removed]",
      "text/plain": [
       "<Figure size 432x288 with 1 Axes>"
      ]
     },
     "metadata": {
      "needs_background": "light"
     },
     "output_type": "display_data"
    }
   ],
   "source": [
    "from scipy.optimize import curve_fit\n",
    "import math\n",
    "\n",
    "param, covariance = curve_fit(sinusoid, X, y, p0=get_p0(X,y))\n",
    "\n",
    "step = 1\n",
    "x_ticks = np.arange(skip, skip+len(X)+step+12, step=12*step)\n",
    "x_labels = []\n",
    "x_labels.append(2012)\n",
    "for i in range(1, len(x_ticks)+13):\n",
    "    x_labels.append(x_labels[i-1]+step)\n",
    "plt.xticks(x_ticks, x_labels)\n",
    "plt.ylabel('Number of arrivals')\n",
    "plt.grid()\n",
    "plt.plot(X, y, color=\"red\", linewidth=1,linestyle='dashed')\n",
    "plt.plot(X, sinusoid(X, *param), color=\"blue\", linewidth=1)\n",
    "plt.show()"
   ]
  },
  {
   "cell_type": "code",
   "execution_count": 48,
   "metadata": {
    "colab": {
     "base_uri": "https://localhost:8080/",
     "height": 34
    },
    "colab_type": "code",
    "executionInfo": {
     "elapsed": 1086,
     "status": "ok",
     "timestamp": 1588172168177,
     "user": {
      "displayName": "Angelica Lo Duca",
      "photoUrl": "https://lh3.googleusercontent.com/a-/AOh14Ggso9VpaoC6b7-YibFA_8Qm-Td3IurPQuGu8ofIkg=s64",
      "userId": "13777285307189724523"
     },
     "user_tz": -120
    },
    "id": "eonP8gSj7oyu",
    "outputId": "fce459be-af06-4674-db9d-127e73cf4b24"
   },
   "outputs": [
    {
     "data": {
      "text/plain": [
       "array([5.61077917e+05, 3.97765624e+05, 1.61213353e-03, 5.03389367e-01])"
      ]
     },
     "execution_count": 48,
     "metadata": {},
     "output_type": "execute_result"
    }
   ],
   "source": [
    "perr = np.sqrt(np.diag(covariance))\n",
    "perr"
   ]
  },
  {
   "cell_type": "markdown",
   "metadata": {
    "colab_type": "text",
    "id": "s_cPcwoXvLZ9"
   },
   "source": [
    "We have approximated our data with a sinusoid with a constant value of `A`. In our case both the amplitude `A` and the `offset` are variable. The idea is to calculate all the maximum peaks and minimum peaks in our data. Then we can use their difference to calculate the vector of amplitudes and pass them to the `sinusoid()` function.\n",
    "\n",
    "We define the function `get_peaks()`, which calculates the peaks of an array. We sample the array every `T` elements and we calculate the peak within each `T`."
   ]
  },
  {
   "cell_type": "code",
   "execution_count": 49,
   "metadata": {
    "colab": {},
    "colab_type": "code",
    "id": "xBdwpFvYvLaA"
   },
   "outputs": [],
   "source": [
    "def get_peaks(y, metrics):\n",
    "    n = int(math.ceil(len(y)/T))\n",
    "    step = 0\n",
    "    x_peaks = []\n",
    "    y_peaks = []\n",
    "    for i in range(0,n):\n",
    "        peak_index = y.index(metrics(y[step:step+T]))\n",
    "        x_peaks.append(peak_index + skip)\n",
    "        y_peaks.append(y[peak_index])\n",
    "        step = step+T\n",
    "    return [x_peaks,y_peaks]"
   ]
  },
  {
   "cell_type": "markdown",
   "metadata": {
    "colab_type": "text",
    "id": "AW_Buv4SvLaD"
   },
   "source": [
    "We calculate the maximum and minimum peaks."
   ]
  },
  {
   "cell_type": "code",
   "execution_count": 50,
   "metadata": {
    "colab": {},
    "colab_type": "code",
    "id": "vHGOZvCQvLaE"
   },
   "outputs": [],
   "source": [
    "# approximate curve of peaks with\n",
    "min_peaks = get_peaks(y,min)\n",
    "max_peaks = get_peaks(y,max)\n",
    "\n",
    "min_peaks_nat = get_peaks(y_nat,min)\n",
    "max_peaks_nat = get_peaks(y_nat,max)\n",
    "\n",
    "min_peaks_for = get_peaks(y_for,min)\n",
    "max_peaks_for = get_peaks(y_for,max)"
   ]
  },
  {
   "cell_type": "markdown",
   "metadata": {
    "colab_type": "text",
    "id": "SmtktJtAvLaI"
   },
   "source": [
    "Now we can calculate the array of amplitudes and offsets."
   ]
  },
  {
   "cell_type": "code",
   "execution_count": 51,
   "metadata": {
    "colab": {},
    "colab_type": "code",
    "id": "k29nge4yvLaJ"
   },
   "outputs": [],
   "source": [
    "#calculate variable amplitude and variable offset\n",
    "def get_amplitude(min_peaks,max_peaks):\n",
    "  A = []\n",
    "  offset = []\n",
    "  for i in range(0, len(min_peaks[1])):\n",
    "      c_a = (max_peaks[1][i] - min_peaks[1][i])/2\n",
    "      c_offset = min_peaks[1][i] + c_a\n",
    "      for j in range(0,T):\n",
    "          A.append(c_a)\n",
    "          offset.append(c_offset)\n",
    "  # last two months of 2019 are not available\n",
    "  A = A[:-2]\n",
    "  offset = offset[:-2]\n",
    "  return [A, offset]"
   ]
  },
  {
   "cell_type": "code",
   "execution_count": 52,
   "metadata": {
    "colab": {},
    "colab_type": "code",
    "id": "Hi_DbNHgWD-4"
   },
   "outputs": [],
   "source": [
    "A_nat, offset_nat = get_amplitude(min_peaks_nat, max_peaks_nat)\n",
    "A_for, offset_for = get_amplitude(min_peaks_for,max_peaks_for)"
   ]
  },
  {
   "cell_type": "markdown",
   "metadata": {
    "colab_type": "text",
    "id": "0-jprDvWvLaL"
   },
   "source": [
    "Since `A` and `offset` are new features, we should add them as variables. Thus we define a new variable `features`, which defines the new input features of our model. Then we define the function `variable_sinusoid()`, which takes the features as input. \n",
    "\n",
    "The only parameters returned by our model are `omega` and `phase` thus we modify also the function `get_p0()` with initial values of `omega` and `phase`. The new function is called `variable_get_p0()`."
   ]
  },
  {
   "cell_type": "code",
   "execution_count": 53,
   "metadata": {
    "colab": {},
    "colab_type": "code",
    "id": "qknJCJUvvLaM",
    "scrolled": true
   },
   "outputs": [],
   "source": [
    "\n",
    "features_nat = [X, A_nat, offset_nat]\n",
    "features_for = [X, A_for, offset_for]\n",
    "\n",
    "def variable_sinusoid(features,omega,phase):\n",
    "    x = features[0]\n",
    "    A = features[1]\n",
    "    offset = features[2]\n",
    "    return A*np.sin(omega*x+phase) + offset\n",
    "\n",
    "def variable_get_p0(x, y): \n",
    "    phase0 = 0\n",
    "    omega0 = 2.*np.pi/T\n",
    "    return [omega0, phase0]"
   ]
  },
  {
   "cell_type": "markdown",
   "metadata": {
    "colab_type": "text",
    "id": "Xyr_qjDSvLaO"
   },
   "source": [
    "We fit the model and plot results."
   ]
  },
  {
   "cell_type": "code",
   "execution_count": 54,
   "metadata": {
    "colab": {},
    "colab_type": "code",
    "id": "77beJjcUvLaP"
   },
   "outputs": [],
   "source": [
    "param_nat, covariance_nat = curve_fit(variable_sinusoid, features_nat, y_nat, p0=variable_get_p0(X,y_nat))\n",
    "param_for, covariance_for = curve_fit(variable_sinusoid, features_for, y_for, p0=variable_get_p0(X,y_for))\n",
    "\n",
    "y_pred_nat = variable_sinusoid(features_nat, *param_nat)\n",
    "y_pred_for = variable_sinusoid(features_for, *param_for)\n",
    "\n",
    "def my_plot(X,y,X_pred, y_pred):\n",
    "  plt.xticks(x_ticks, x_labels)\n",
    "  plt.ylabel('Number of arrivals')\n",
    "  plt.plot(X, y, color=\"red\", linewidth=1,linestyle='dashed', label=\"data\")\n",
    "  plt.plot(X_pred, y_pred, color=\"blue\", linewidth=1, label=\"model\")\n",
    "  plt.grid()\n",
    "  plt.legend()\n",
    "  plt.savefig(\"plots/sinusoid-IT.png\")\n",
    "  plt.show()"
   ]
  },
  {
   "cell_type": "code",
   "execution_count": 55,
   "metadata": {
    "colab": {
     "base_uri": "https://localhost:8080/",
     "height": 276
    },
    "colab_type": "code",
    "executionInfo": {
     "elapsed": 1090,
     "status": "ok",
     "timestamp": 1588172179432,
     "user": {
      "displayName": "Angelica Lo Duca",
      "photoUrl": "https://lh3.googleusercontent.com/a-/AOh14Ggso9VpaoC6b7-YibFA_8Qm-Td3IurPQuGu8ofIkg=s64",
      "userId": "13777285307189724523"
     },
     "user_tz": -120
    },
    "id": "5xfaxk3SXN8C",
    "outputId": "0b8abefd-cdd9-4cee-a5f6-310adc309eec"
   },
   "outputs": [
    {
     "data": {
      "image/png": "[encoded data removed]",
      "text/plain": [
       "<Figure size 432x288 with 1 Axes>"
      ]
     },
     "metadata": {
      "needs_background": "light"
     },
     "output_type": "display_data"
    }
   ],
   "source": [
    "my_plot(X,y_nat,X,y_pred_nat)"
   ]
  },
  {
   "cell_type": "markdown",
   "metadata": {
    "colab_type": "text",
    "id": "UTVZmMKi37QW"
   },
   "source": [
    "Calculate error."
   ]
  },
  {
   "cell_type": "code",
   "execution_count": 56,
   "metadata": {
    "colab": {
     "base_uri": "https://localhost:8080/",
     "height": 276
    },
    "colab_type": "code",
    "executionInfo": {
     "elapsed": 1121,
     "status": "ok",
     "timestamp": 1588172182502,
     "user": {
      "displayName": "Angelica Lo Duca",
      "photoUrl": "https://lh3.googleusercontent.com/a-/AOh14Ggso9VpaoC6b7-YibFA_8Qm-Td3IurPQuGu8ofIkg=s64",
      "userId": "13777285307189724523"
     },
     "user_tz": -120
    },
    "id": "z5-WHAVzXTSx",
    "outputId": "fdd6cf8b-d75a-49da-bc6e-ec0cc02aa4f0"
   },
   "outputs": [
    {
     "data": {
      "image/png": "[encoded data removed]",
      "text/plain": [
       "<Figure size 432x288 with 1 Axes>"
      ]
     },
     "metadata": {
      "needs_background": "light"
     },
     "output_type": "display_data"
    }
   ],
   "source": [
    "my_plot(X,y_for,X,y_pred_for)"
   ]
  },
  {
   "cell_type": "code",
   "execution_count": null,
   "metadata": {
    "colab": {},
    "colab_type": "code",
    "id": "zAe13ZHNbBej"
   },
   "outputs": [],
   "source": []
  },
  {
   "cell_type": "code",
   "execution_count": 57,
   "metadata": {
    "colab": {
     "base_uri": "https://localhost:8080/",
     "height": 153
    },
    "colab_type": "code",
    "executionInfo": {
     "elapsed": 824,
     "status": "ok",
     "timestamp": 1588172184747,
     "user": {
      "displayName": "Angelica Lo Duca",
      "photoUrl": "https://lh3.googleusercontent.com/a-/AOh14Ggso9VpaoC6b7-YibFA_8Qm-Td3IurPQuGu8ofIkg=s64",
      "userId": "13777285307189724523"
     },
     "user_tz": -120
    },
    "id": "NdfUoRR6353M",
    "outputId": "652ab6b8-bc69-4e34-b0f5-9594b0d41984"
   },
   "outputs": [
    {
     "data": {
      "text/plain": [
       "array([[ 3.14808429e+11, -4.38518748e+09, -2.02166869e-01,\n",
       "         5.14236630e+02],\n",
       "       [-4.38518748e+09,  1.58217492e+11,  3.96992165e+01,\n",
       "        -1.27133496e+04],\n",
       "       [-2.02166869e-01,  3.96992165e+01,  2.59897452e-06,\n",
       "        -8.08478874e-04],\n",
       "       [ 5.14236630e+02, -1.27133496e+04, -8.08478874e-04,\n",
       "         2.53400855e-01]])"
      ]
     },
     "execution_count": 57,
     "metadata": {},
     "output_type": "execute_result"
    }
   ],
   "source": [
    "perr = np.sqrt(np.diag(covariance_nat))\n",
    "covariance"
   ]
  },
  {
   "cell_type": "markdown",
   "metadata": {
    "colab_type": "text",
    "id": "YkS5UAfZvLaR"
   },
   "source": [
    "## Predicting the future trendline\n",
    "The next step involves the prediction of the next sinusoid, i.e. the sinusoid for year 2020. In order to do it, we need to calculate the next max and minimum peaks. We can do it by approximating the vector of maximum and minimum peaks with two linear regressions, respectively. Then, we can calculate the maximum peak at instant i (August 2020) as the y value of the maximum linear regression given at instant (i-1) + pi (i-1 represents August 2019). Similarly, we can calculate the minimum peak for year 2020.\n",
    "\n",
    "Firstly, we reshape the peaks to be passed to the linear model. Then, we build two linear models, one for each predicting line, using the `sklearn` class `LinearRegression()`. After that, we fit every model using the `fit()` function."
   ]
  },
  {
   "cell_type": "code",
   "execution_count": 58,
   "metadata": {
    "colab": {},
    "colab_type": "code",
    "id": "vIdtSGjJvLaS"
   },
   "outputs": [],
   "source": [
    "from sklearn import linear_model\n",
    "\n",
    "def models(min_peaks, max_peaks):\n",
    "  # reshape x_peaks\n",
    "  x_min_peaks = list(map(lambda el:[el], min_peaks[0])) \n",
    "  x_max_peaks = list(map(lambda el:[el], max_peaks[0])) \n",
    "\n",
    "  # min model\n",
    "  model_min = linear_model.LinearRegression()\n",
    "  model_min.fit(x_min_peaks,min_peaks[1])\n",
    "\n",
    "  # max model\n",
    "  model_max = linear_model.LinearRegression()\n",
    "  model_max.fit(x_max_peaks,max_peaks[1])\n",
    "  return [model_min,model_max]"
   ]
  },
  {
   "cell_type": "markdown",
   "metadata": {
    "colab_type": "text",
    "id": "w2D7DsMWvLaV"
   },
   "source": [
    "We append the next peaks both to `x_max_peaks` and `x_min_peaks` and then we predict the maximum and minimum peaks through the `predict()` function."
   ]
  },
  {
   "cell_type": "code",
   "execution_count": 59,
   "metadata": {
    "colab": {},
    "colab_type": "code",
    "id": "1mR8utI8Xy7e"
   },
   "outputs": [],
   "source": [
    "model_min_nat, model_max_nat = models(min_peaks_nat, max_peaks_nat)\n",
    "model_min_for, model_max_for = models(min_peaks_for, max_peaks_for)"
   ]
  },
  {
   "cell_type": "code",
   "execution_count": 60,
   "metadata": {
    "colab": {},
    "colab_type": "code",
    "id": "D3xP7JEWvLaW"
   },
   "outputs": [],
   "source": [
    "def predict_peaks(model_min,model_max, min_peaks, max_peaks):\n",
    "  # reshape x_peaks\n",
    "  x_min_peaks = list(map(lambda el:[el], min_peaks[0])) \n",
    "  x_max_peaks = list(map(lambda el:[el], max_peaks[0])) \n",
    "  x_min_peaks.append([x_min_peaks[len(x_min_peaks) -1][0] + T])\n",
    "  x_max_peaks.append([x_max_peaks[len(x_max_peaks) -1][0] + T])\n",
    "  y_pred_min = model_min.predict(x_min_peaks)\n",
    "  y_pred_max = model_max.predict(x_max_peaks)\n",
    "  return [y_pred_min,y_pred_max]"
   ]
  },
  {
   "cell_type": "markdown",
   "metadata": {
    "colab_type": "text",
    "id": "7qjj_g26vLab"
   },
   "source": [
    "We plot the two predicting lines."
   ]
  },
  {
   "cell_type": "code",
   "execution_count": 61,
   "metadata": {
    "colab": {},
    "colab_type": "code",
    "id": "KckX1DyFY6JK"
   },
   "outputs": [],
   "source": [
    "y_pred_min_nat, y_pred_max_nat = predict_peaks(model_min_nat,model_max_nat, min_peaks_nat,max_peaks_nat)\n",
    "y_pred_min_for, y_pred_max_for = predict_peaks(model_min_for,model_max_for, min_peaks_for,max_peaks_for)"
   ]
  },
  {
   "cell_type": "markdown",
   "metadata": {
    "colab_type": "text",
    "id": "hrI90uugvLag"
   },
   "source": [
    "We calculate the sinusoid for all the period, including 2020. We build a variable `X_pred`, which contains `X` and the 12 months of 2020."
   ]
  },
  {
   "cell_type": "code",
   "execution_count": 62,
   "metadata": {
    "colab": {
     "base_uri": "https://localhost:8080/",
     "height": 34
    },
    "colab_type": "code",
    "executionInfo": {
     "elapsed": 750,
     "status": "ok",
     "timestamp": 1588172204241,
     "user": {
      "displayName": "Angelica Lo Duca",
      "photoUrl": "https://lh3.googleusercontent.com/a-/AOh14Ggso9VpaoC6b7-YibFA_8Qm-Td3IurPQuGu8ofIkg=s64",
      "userId": "13777285307189724523"
     },
     "user_tz": -120
    },
    "id": "60Xz3MlOvLah",
    "outputId": "8bf663ac-4ce5-47d2-a7c6-3850e2bbabfd"
   },
   "outputs": [
    {
     "data": {
      "text/plain": [
       "106"
      ]
     },
     "execution_count": 62,
     "metadata": {},
     "output_type": "execute_result"
    }
   ],
   "source": [
    "X_pred = np.array(X)\n",
    "month = X_pred[len(X_pred)-1] + 1\n",
    "for i in range(0,T):\n",
    "    X_pred = np.append(X_pred,month)\n",
    "    month = month + 1\n",
    "len(X_pred)"
   ]
  },
  {
   "cell_type": "markdown",
   "metadata": {
    "colab_type": "text",
    "id": "yPSXHahgvLaj"
   },
   "source": [
    "Now, we can update the variable `features_pred` to be passed to the `variable_sinusoid()` function. Firstly, we update the amplitude `A` and the `offset` with new values and then we update the `features_pred` variable."
   ]
  },
  {
   "cell_type": "code",
   "execution_count": 63,
   "metadata": {
    "colab": {},
    "colab_type": "code",
    "id": "8pXpCI-uvLaj"
   },
   "outputs": [],
   "source": [
    "def update_features(y_pred_min,y_pred_max,A,offset):\n",
    "  print(y_pred_min)\n",
    "  index = len(y_pred_min)-1\n",
    "  c_a = (y_pred_max[index] - y_pred_min[index])/2\n",
    "  c_offset = y_pred_min[index] + c_a\n",
    "  for j in range(0,T):\n",
    "        A.append(c_a)\n",
    "        offset.append(c_offset)\n",
    "\n",
    "  return [X_pred,A,offset]"
   ]
  },
  {
   "cell_type": "code",
   "execution_count": 64,
   "metadata": {
    "colab": {
     "base_uri": "https://localhost:8080/",
     "height": 119
    },
    "colab_type": "code",
    "executionInfo": {
     "elapsed": 585,
     "status": "ok",
     "timestamp": 1588172208017,
     "user": {
      "displayName": "Angelica Lo Duca",
      "photoUrl": "https://lh3.googleusercontent.com/a-/AOh14Ggso9VpaoC6b7-YibFA_8Qm-Td3IurPQuGu8ofIkg=s64",
      "userId": "13777285307189724523"
     },
     "user_tz": -120
    },
    "id": "UDfa7EsKagsJ",
    "outputId": "09e7764a-19a7-4dac-c1ae-8f558756a599"
   },
   "outputs": [
    {
     "name": "stdout",
     "output_type": "stream",
     "text": [
      "[3469021.65774564 4101565.9761555  4786822.32109952 5893774.87831677\n",
      " 6526319.19672663 7158863.51513649 7264287.5682048  7896831.88661465\n",
      " 8529376.20502451]\n",
      "[1728806.91193036 2664965.42396313 3153395.95198023 3641826.47999733\n",
      " 4130257.00801443 4618687.53603152 4659390.08003295 5147820.60805004\n",
      " 5636251.13606714]\n"
     ]
    }
   ],
   "source": [
    "features_pred_nat = update_features(y_pred_min_nat, y_pred_max_nat, A_nat,offset_nat)\n",
    "features_pred_for = update_features(y_pred_min_for, y_pred_max_for, A_for,offset_for)"
   ]
  },
  {
   "cell_type": "code",
   "execution_count": 65,
   "metadata": {
    "colab": {},
    "colab_type": "code",
    "id": "mce483SBbFlt"
   },
   "outputs": [],
   "source": [
    "y_pred_nat = variable_sinusoid(features_pred_nat, *param_nat)\n",
    "y_pred_for = variable_sinusoid(features_pred_for, *param_for)\n"
   ]
  },
  {
   "cell_type": "markdown",
   "metadata": {
    "colab_type": "text",
    "id": "Wy-0NpD2vLam"
   },
   "source": [
    "Finally, we plot graphs."
   ]
  },
  {
   "cell_type": "code",
   "execution_count": 66,
   "metadata": {
    "colab": {
     "base_uri": "https://localhost:8080/",
     "height": 276
    },
    "colab_type": "code",
    "executionInfo": {
     "elapsed": 1166,
     "status": "ok",
     "timestamp": 1588172236097,
     "user": {
      "displayName": "Angelica Lo Duca",
      "photoUrl": "https://lh3.googleusercontent.com/a-/AOh14Ggso9VpaoC6b7-YibFA_8Qm-Td3IurPQuGu8ofIkg=s64",
      "userId": "13777285307189724523"
     },
     "user_tz": -120
    },
    "id": "v8r2pamibbC1",
    "outputId": "b24f59ec-e693-4a69-b432-dd4267afb139"
   },
   "outputs": [
    {
     "data": {
      "image/png": "[encoded data removed]",
      "text/plain": [
       "<Figure size 432x288 with 1 Axes>"
      ]
     },
     "metadata": {
      "needs_background": "light"
     },
     "output_type": "display_data"
    }
   ],
   "source": [
    "my_plot(X,y_for,features_pred_for[0],y_pred_for)"
   ]
  },
  {
   "cell_type": "code",
   "execution_count": 67,
   "metadata": {
    "colab": {
     "base_uri": "https://localhost:8080/",
     "height": 276
    },
    "colab_type": "code",
    "executionInfo": {
     "elapsed": 1200,
     "status": "ok",
     "timestamp": 1588172255373,
     "user": {
      "displayName": "Angelica Lo Duca",
      "photoUrl": "https://lh3.googleusercontent.com/a-/AOh14Ggso9VpaoC6b7-YibFA_8Qm-Td3IurPQuGu8ofIkg=s64",
      "userId": "13777285307189724523"
     },
     "user_tz": -120
    },
    "id": "0bA10WOicT-m",
    "outputId": "6a34ab95-936c-4e99-be40-09c5266890da"
   },
   "outputs": [
    {
     "data": {
      "image/png": "[encoded data removed]",
      "text/plain": [
       "<Figure size 432x288 with 1 Axes>"
      ]
     },
     "metadata": {
      "needs_background": "light"
     },
     "output_type": "display_data"
    }
   ],
   "source": [
    "my_plot(X,y_nat,features_pred_nat[0],y_pred_nat)"
   ]
  },
  {
   "cell_type": "code",
   "execution_count": 68,
   "metadata": {
    "colab": {
     "base_uri": "https://localhost:8080/",
     "height": 85
    },
    "colab_type": "code",
    "executionInfo": {
     "elapsed": 872,
     "status": "ok",
     "timestamp": 1588172344234,
     "user": {
      "displayName": "Angelica Lo Duca",
      "photoUrl": "https://lh3.googleusercontent.com/a-/AOh14Ggso9VpaoC6b7-YibFA_8Qm-Td3IurPQuGu8ofIkg=s64",
      "userId": "13777285307189724523"
     },
     "user_tz": -120
    },
    "id": "DvdUoMXRchYI",
    "outputId": "e2c12e10-0f73-4566-c935-3d4cba86092c"
   },
   "outputs": [
    {
     "data": {
      "text/plain": [
       "array([11825536.31850941,  9338207.56739772,  8535541.44874394,\n",
       "        9633983.45881445, 12337329.70851482, 15916600.72929849,\n",
       "       19406616.76041356, 21866266.38046433, 22632284.91403805,\n",
       "       21498109.1864903 , 18769578.97664985, 15182464.81428278])"
      ]
     },
     "execution_count": 68,
     "metadata": {},
     "output_type": "execute_result"
    }
   ],
   "source": [
    "y_pred_nat[len(y_pred_nat)-12:]"
   ]
  },
  {
   "cell_type": "code",
   "execution_count": 69,
   "metadata": {
    "colab": {
     "base_uri": "https://localhost:8080/",
     "height": 85
    },
    "colab_type": "code",
    "executionInfo": {
     "elapsed": 915,
     "status": "ok",
     "timestamp": 1588172424995,
     "user": {
      "displayName": "Angelica Lo Duca",
      "photoUrl": "https://lh3.googleusercontent.com/a-/AOh14Ggso9VpaoC6b7-YibFA_8Qm-Td3IurPQuGu8ofIkg=s64",
      "userId": "13777285307189724523"
     },
     "user_tz": -120
    },
    "id": "NDb7SsaGc9tP",
    "outputId": "5cd64a31-4439-4a2f-fe85-c851f750dce9"
   },
   "outputs": [
    {
     "data": {
      "text/plain": [
       "array([10126230.16654539,  6924640.36207735,  5641695.99674429,\n",
       "        6621357.58968377,  9600975.4740888 , 13781706.81464715,\n",
       "       18042687.32360845, 21241537.71508984, 22520638.38295148,\n",
       "       21537059.31273974, 18554500.45649041, 14372593.13125324])"
      ]
     },
     "execution_count": 69,
     "metadata": {},
     "output_type": "execute_result"
    }
   ],
   "source": [
    "y_pred_for[len(y_pred_for)-12:]"
   ]
  },
  {
   "cell_type": "markdown",
   "metadata": {
    "colab_type": "text",
    "id": "zowzBXfxvLar"
   },
   "source": [
    "We also export predictions to a CSV file."
   ]
  },
  {
   "cell_type": "code",
   "execution_count": 72,
   "metadata": {
    "colab": {},
    "colab_type": "code",
    "id": "giuYWR2DvLar"
   },
   "outputs": [],
   "source": [
    "import csv\n",
    "\n",
    "table = []\n",
    "y_pred = variable_sinusoid(features_pred_for, *param_for)\n",
    "for i in range(0, len(X_pred)):\n",
    "    row = { 'x' : X_pred[i], 'y' : y_pred[i]}\n",
    "    table.append(row)\n",
    "\n",
    "names = table[0].keys()\n",
    "with open('data/arrivals_prediction_for.csv', 'w') as output_file:\n",
    "    dict_writer = csv.DictWriter(output_file, names)\n",
    "    dict_writer.writeheader()\n",
    "    dict_writer.writerows(table)"
   ]
  },
  {
   "cell_type": "code",
   "execution_count": null,
   "metadata": {
    "colab": {},
    "colab_type": "code",
    "id": "7M1uubUYvLau"
   },
   "outputs": [],
   "source": []
  }
 ],
 "metadata": {
  "colab": {
   "name": "AnalyseTourism NAT and FOR.ipynb",
   "provenance": []
  },
  "kernelspec": {
   "display_name": "Python 3",
   "language": "python",
   "name": "python3"
  },
  "language_info": {
   "codemirror_mode": {
    "name": "ipython",
    "version": 3
   },
   "file_extension": ".py",
   "mimetype": "text/x-python",
   "name": "python",
   "nbconvert_exporter": "python",
   "pygments_lexer": "ipython3",
   "version": "3.8.1"
  }
 },
 "nbformat": 4,
 "nbformat_minor": 1
}
