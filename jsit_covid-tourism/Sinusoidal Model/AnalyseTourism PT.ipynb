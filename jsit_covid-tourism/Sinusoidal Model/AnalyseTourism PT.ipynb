{
 "cells": [
  {
   "cell_type": "markdown",
   "metadata": {
    "colab_type": "text",
    "id": "IXInyF-5vLZc"
   },
   "source": [
    "# Predicting Tourists Arrivals at Pistoia\n",
    "This notebook describes how to predict a variable sinusoid in Python.\n",
    "\n",
    "Data analysed: Data ar extracted from https://turismo5pistoia.regione.toscana.it/ through a scraper. Data are updated to April 2020.\n"
   ]
  },
  {
   "cell_type": "code",
   "execution_count": 1,
   "metadata": {
    "colab": {
     "base_uri": "https://localhost:8080/",
     "height": 419
    },
    "colab_type": "code",
    "executionInfo": {
     "elapsed": 716,
     "status": "ok",
     "timestamp": 1599318517239,
     "user": {
      "displayName": "Angelica Lo Duca",
      "photoUrl": "https://lh3.googleusercontent.com/a-/AOh14Ggso9VpaoC6b7-YibFA_8Qm-Td3IurPQuGu8ofIkg=s64",
      "userId": "13777285307189724523"
     },
     "user_tz": -120
    },
    "id": "bMtqXYyZvLZc",
    "outputId": "5d2e5da4-7237-4aa8-ba54-c045e16d5caf"
   },
   "outputs": [
    {
     "data": {
      "text/html": [
       "<div>\n",
       "<style scoped>\n",
       "    .dataframe tbody tr th:only-of-type {\n",
       "        vertical-align: middle;\n",
       "    }\n",
       "\n",
       "    .dataframe tbody tr th {\n",
       "        vertical-align: top;\n",
       "    }\n",
       "\n",
       "    .dataframe thead th {\n",
       "        text-align: right;\n",
       "    }\n",
       "</style>\n",
       "<table border=\"1\" class=\"dataframe\">\n",
       "  <thead>\n",
       "    <tr style=\"text-align: right;\">\n",
       "      <th></th>\n",
       "      <th>Year</th>\n",
       "      <th>Month</th>\n",
       "      <th>Arrivals</th>\n",
       "    </tr>\n",
       "  </thead>\n",
       "  <tbody>\n",
       "    <tr>\n",
       "      <th>0</th>\n",
       "      <td>2012</td>\n",
       "      <td>1</td>\n",
       "      <td>14751</td>\n",
       "    </tr>\n",
       "    <tr>\n",
       "      <th>1</th>\n",
       "      <td>2012</td>\n",
       "      <td>2</td>\n",
       "      <td>18562</td>\n",
       "    </tr>\n",
       "    <tr>\n",
       "      <th>2</th>\n",
       "      <td>2012</td>\n",
       "      <td>3</td>\n",
       "      <td>41478</td>\n",
       "    </tr>\n",
       "    <tr>\n",
       "      <th>3</th>\n",
       "      <td>2012</td>\n",
       "      <td>4</td>\n",
       "      <td>55215</td>\n",
       "    </tr>\n",
       "    <tr>\n",
       "      <th>4</th>\n",
       "      <td>2012</td>\n",
       "      <td>5</td>\n",
       "      <td>53843</td>\n",
       "    </tr>\n",
       "    <tr>\n",
       "      <th>...</th>\n",
       "      <td>...</td>\n",
       "      <td>...</td>\n",
       "      <td>...</td>\n",
       "    </tr>\n",
       "    <tr>\n",
       "      <th>94</th>\n",
       "      <td>2019</td>\n",
       "      <td>11</td>\n",
       "      <td>47747</td>\n",
       "    </tr>\n",
       "    <tr>\n",
       "      <th>95</th>\n",
       "      <td>2019</td>\n",
       "      <td>12</td>\n",
       "      <td>40886</td>\n",
       "    </tr>\n",
       "    <tr>\n",
       "      <th>96</th>\n",
       "      <td>2020</td>\n",
       "      <td>1</td>\n",
       "      <td>36281</td>\n",
       "    </tr>\n",
       "    <tr>\n",
       "      <th>97</th>\n",
       "      <td>2020</td>\n",
       "      <td>2</td>\n",
       "      <td>33587</td>\n",
       "    </tr>\n",
       "    <tr>\n",
       "      <th>98</th>\n",
       "      <td>2020</td>\n",
       "      <td>3</td>\n",
       "      <td>4766</td>\n",
       "    </tr>\n",
       "  </tbody>\n",
       "</table>\n",
       "<p>99 rows × 3 columns</p>\n",
       "</div>"
      ],
      "text/plain": [
       "    Year  Month  Arrivals\n",
       "0   2012      1     14751\n",
       "1   2012      2     18562\n",
       "2   2012      3     41478\n",
       "3   2012      4     55215\n",
       "4   2012      5     53843\n",
       "..   ...    ...       ...\n",
       "94  2019     11     47747\n",
       "95  2019     12     40886\n",
       "96  2020      1     36281\n",
       "97  2020      2     33587\n",
       "98  2020      3      4766\n",
       "\n",
       "[99 rows x 3 columns]"
      ]
     },
     "execution_count": 1,
     "metadata": {},
     "output_type": "execute_result"
    }
   ],
   "source": [
    "import pandas as pd\n",
    "df = pd.read_csv('data/arrivals_pistoia.csv')\n",
    "\n",
    "df"
   ]
  },
  {
   "cell_type": "markdown",
   "metadata": {
    "colab_type": "text",
    "id": "AdVR8nhjvLZp"
   },
   "source": [
    "## Preliminary analysis\n",
    "We plot `y` to understand the trendline. We build the auxiliary vector `X`, which contains all the months. Month 0 refers to 2012 Genuary. In order to display x labels in the graph every year, we build two auxiliary variables, `x_ticks` and `x_labels`."
   ]
  },
  {
   "cell_type": "code",
   "execution_count": 2,
   "metadata": {
    "colab": {
     "base_uri": "https://localhost:8080/",
     "height": 279
    },
    "colab_type": "code",
    "executionInfo": {
     "elapsed": 1111,
     "status": "ok",
     "timestamp": 1599318518442,
     "user": {
      "displayName": "Angelica Lo Duca",
      "photoUrl": "https://lh3.googleusercontent.com/a-/AOh14Ggso9VpaoC6b7-YibFA_8Qm-Td3IurPQuGu8ofIkg=s64",
      "userId": "13777285307189724523"
     },
     "user_tz": -120
    },
    "id": "V1M5S6fDvLZp",
    "outputId": "165b5b74-73bd-4951-ce2b-986169039b28"
   },
   "outputs": [
    {
     "data": {
      "image/png": "[encoded data removed]",
      "text/plain": [
       "<Figure size 432x288 with 1 Axes>"
      ]
     },
     "metadata": {
      "needs_background": "light"
     },
     "output_type": "display_data"
    }
   ],
   "source": [
    "import matplotlib.pyplot as plt\n",
    "import matplotlib\n",
    "import numpy as np\n",
    "\n",
    "y = []\n",
    "for i in range(0, len(df['Arrivals'])):\n",
    "    y.append(df['Arrivals'][i])\n",
    "X = np.arange(0, len(y))\n",
    "\n",
    "step = 1\n",
    "x_ticks = np.arange(0, len(y)+step, step=12*step)\n",
    "x_labels = []\n",
    "x_labels.append(2012)\n",
    "for i in range(1, len(x_ticks)+1):\n",
    "    x_labels.append(x_labels[i-1]+step)\n",
    "plt.xticks(x_ticks, x_labels)\n",
    "plt.plot(X, y, color=\"red\", linewidth=1)\n",
    "\n",
    "plt.grid()\n",
    "plt.xlabel('Months')\n",
    "plt.ylabel('Number of arrivals')\n",
    "\n",
    "plt.show()"
   ]
  },
  {
   "cell_type": "markdown",
   "metadata": {
    "colab_type": "text",
    "id": "Cp4uLeu8vLZw"
   },
   "source": [
    "## Data approximation\n",
    "Now we can approximate data with a sinusoid. The equation of a sinusoid is `A*np.sin(omega*x+phase) + offset`, where:\n",
    "* |`A`| indicates the amplitude, i.e. half the distance between the maximum and minimum values of the function\n",
    "* `omega` is the number of cycles between 0 and 2pi. The period T is 2pi/omega\n",
    "* `phase` is the horizontal shift\n",
    "* `offset` is the vertical shift, i.e. the sum between the minimum peak and the amplitude. Here some details about offset: https://www.ck12.org/book/ck-12-precalculus-concepts/section/5.4/\n",
    "\n",
    "For more details about sinusoids, you can give a look at: https://mathbitsnotebook.com/Algebra2/TrigGraphs/TGsinusoidal.html"
   ]
  },
  {
   "cell_type": "code",
   "execution_count": 3,
   "metadata": {
    "colab": {},
    "colab_type": "code",
    "executionInfo": {
     "elapsed": 756,
     "status": "ok",
     "timestamp": 1599318520927,
     "user": {
      "displayName": "Angelica Lo Duca",
      "photoUrl": "https://lh3.googleusercontent.com/a-/AOh14Ggso9VpaoC6b7-YibFA_8Qm-Td3IurPQuGu8ofIkg=s64",
      "userId": "13777285307189724523"
     },
     "user_tz": -120
    },
    "id": "bkqJm-S5vLZw"
   },
   "outputs": [],
   "source": [
    "def sinusoid(x,A,offset,omega,phase):\n",
    "    return A*np.sin(omega*x+phase) + offset"
   ]
  },
  {
   "cell_type": "markdown",
   "metadata": {
    "colab_type": "text",
    "id": "mVjizk-BvLZ0"
   },
   "source": [
    "We define also initial values for the sinusoid. We set the period `T = 12`, i.e. the number of months in a year. If the period is not known, we should calculate it. We could use the Fast Fourier Transform. At these links you can find more details about this aspect: https://stackoverflow.com/questions/16716302/how-do-i-fit-a-sine-curve-to-my-data-with-pylab-and-numpy, https://www.oreilly.com/library/view/elegant-scipy/9781491922927/ch04.html and https://docs.scipy.org/doc/numpy/reference/generated/numpy.fft.fft.html."
   ]
  },
  {
   "cell_type": "code",
   "execution_count": 4,
   "metadata": {
    "colab": {},
    "colab_type": "code",
    "executionInfo": {
     "elapsed": 521,
     "status": "ok",
     "timestamp": 1599318522332,
     "user": {
      "displayName": "Angelica Lo Duca",
      "photoUrl": "https://lh3.googleusercontent.com/a-/AOh14Ggso9VpaoC6b7-YibFA_8Qm-Td3IurPQuGu8ofIkg=s64",
      "userId": "13777285307189724523"
     },
     "user_tz": -120
    },
    "id": "dHrWNg0wvLZ2"
   },
   "outputs": [],
   "source": [
    "T = 12\n",
    "def get_p0(x, y):\n",
    "    \n",
    "    A0 = (max(y[0:T]) - min(y[0:T]))/2\n",
    "    offset0 = y[0]\n",
    "    phase0 = 0\n",
    "    omega0 = 2.*np.pi/T\n",
    "    return [A0, offset0,omega0, phase0]"
   ]
  },
  {
   "cell_type": "markdown",
   "metadata": {
    "colab_type": "text",
    "id": "qTd70CYvvLZ5"
   },
   "source": [
    "Now we are ready to approximate our data with a sinusoid. We use the `curve_fit()` function provided by `scipy`. The we plot results. For more details about the `curve_fit()` function, please give a look at https://docs.scipy.org/doc/scipy/reference/generated/scipy.optimize.curve_fit.html."
   ]
  },
  {
   "cell_type": "code",
   "execution_count": 5,
   "metadata": {
    "colab": {
     "base_uri": "https://localhost:8080/",
     "height": 297
    },
    "colab_type": "code",
    "executionInfo": {
     "elapsed": 927,
     "status": "ok",
     "timestamp": 1599318591391,
     "user": {
      "displayName": "Angelica Lo Duca",
      "photoUrl": "https://lh3.googleusercontent.com/a-/AOh14Ggso9VpaoC6b7-YibFA_8Qm-Td3IurPQuGu8ofIkg=s64",
      "userId": "13777285307189724523"
     },
     "user_tz": -120
    },
    "id": "hsYItPWXvLZ6",
    "outputId": "d996855f-2c74-41f5-ac27-13216382b0f3"
   },
   "outputs": [
    {
     "data": {
      "image/png": "[encoded data removed]",
      "text/plain": [
       "<Figure size 432x288 with 1 Axes>"
      ]
     },
     "metadata": {
      "needs_background": "light"
     },
     "output_type": "display_data"
    }
   ],
   "source": [
    "from scipy.optimize import curve_fit\n",
    "import math\n",
    "\n",
    "skip = 12\n",
    "X = X[skip:]\n",
    "y = y[skip:]\n",
    "\n",
    "param, covariance = curve_fit(sinusoid, X, y, p0=get_p0(X,y))\n",
    "step = 1\n",
    "x_ticks = np.arange(skip, skip+len(X)+step+12, step=12*step)\n",
    "x_labels = []\n",
    "x_labels.append(2013)\n",
    "for i in range(1, len(x_ticks)+13):\n",
    "    x_labels.append(x_labels[i-1]+step)\n",
    "plt.xticks(x_ticks, x_labels)\n",
    "plt.ylabel('Number of tourist arrivals')\n",
    "plt.plot(X, y, color=\"red\", linewidth=1,linestyle='dashed', label=\"data\")\n",
    "plt.plot(X, sinusoid(X, *param), color=\"blue\", linewidth=1, label=\"model\")\n",
    "plt.legend()\n",
    "plt.grid()\n",
    "plt.tight_layout()\n",
    "plt.savefig(\"plots/sinusoid_PT.png\")\n",
    "plt.show()"
   ]
  },
  {
   "cell_type": "markdown",
   "metadata": {
    "colab_type": "text",
    "id": "s_cPcwoXvLZ9"
   },
   "source": [
    "We have approximated our data with a sinusoid with a constant value of `A`. In our case both the amplitude `A` and the `offset` are variable. The idea is to calculate all the maximum peaks and minimum peaks in our data. Then we can use their difference to calculate the vector of amplitudes and pass them to the `sinusoid()` function.\n",
    "\n",
    "We define the function `get_peaks()`, which calculates the peaks of an array. We sample the array every `T` elements and we calculate the peak within each `T`."
   ]
  },
  {
   "cell_type": "code",
   "execution_count": 6,
   "metadata": {
    "colab": {},
    "colab_type": "code",
    "id": "xBdwpFvYvLaA"
   },
   "outputs": [],
   "source": [
    "def get_peaks(y, metrics):\n",
    "    n = int(math.ceil(len(y)/T))\n",
    "    step = 0\n",
    "    x_peaks = []\n",
    "    y_peaks = []\n",
    "    for i in range(0,n):\n",
    "        peak_index = y.index(metrics(y[step:step+T]))\n",
    "        x_peaks.append(peak_index + skip)\n",
    "        y_peaks.append(y[peak_index])\n",
    "        step = step+T\n",
    "    return [x_peaks,y_peaks]"
   ]
  },
  {
   "cell_type": "markdown",
   "metadata": {
    "colab_type": "text",
    "id": "AW_Buv4SvLaD"
   },
   "source": [
    "We calculate the maximum and minimum peaks."
   ]
  },
  {
   "cell_type": "code",
   "execution_count": 7,
   "metadata": {
    "colab": {},
    "colab_type": "code",
    "id": "vHGOZvCQvLaE"
   },
   "outputs": [],
   "source": [
    "# approximate curve of peaks with\n",
    "min_peaks = get_peaks(y,min)\n",
    "max_peaks = get_peaks(y,max)"
   ]
  },
  {
   "cell_type": "markdown",
   "metadata": {
    "colab_type": "text",
    "id": "SmtktJtAvLaI"
   },
   "source": [
    "Now we can calculate the array of amplitudes and offsets."
   ]
  },
  {
   "cell_type": "code",
   "execution_count": 8,
   "metadata": {
    "colab": {},
    "colab_type": "code",
    "id": "k29nge4yvLaJ"
   },
   "outputs": [],
   "source": [
    "#calculate variable amplitude and variable offset\n",
    "A = []\n",
    "offset = []\n",
    "for i in range(0, len(min_peaks[1])):\n",
    "    c_a = (max_peaks[1][i] - min_peaks[1][i])/2\n",
    "    c_offset = min_peaks[1][i] + c_a\n",
    "    for j in range(0,T):\n",
    "        A.append(c_a)\n",
    "        offset.append(c_offset)\n",
    "# last two months of 2019 are not available\n",
    "A = A[:-9]\n",
    "offset = offset[:-9]"
   ]
  },
  {
   "cell_type": "markdown",
   "metadata": {
    "colab_type": "text",
    "id": "0-jprDvWvLaL"
   },
   "source": [
    "Since `A` and `offset` are new features, we should add them as variables. Thus we define a new variable `features`, which defines the new input features of our model. Then we define the function `variable_sinusoid()`, which takes the features as input. \n",
    "\n",
    "The only parameters returned by our model are `omega` and `phase` thus we modify also the function `get_p0()` with initial values of `omega` and `phase`. The new function is called `variable_get_p0()`."
   ]
  },
  {
   "cell_type": "code",
   "execution_count": 9,
   "metadata": {
    "colab": {},
    "colab_type": "code",
    "id": "qknJCJUvvLaM",
    "scrolled": true
   },
   "outputs": [],
   "source": [
    "features = [X, A, offset]\n",
    "\n",
    "cut = 4\n",
    "features_c = [X[:-cut], A[:-cut], offset[:-cut]]\n",
    "y_c = y[:-cut]\n",
    "X_c = X[:-cut]\n",
    "def variable_sinusoid(f,omega,phase):\n",
    "    x = f[0]\n",
    "    A = f[1]\n",
    "    offset = f[2]\n",
    "    return A*np.sin(omega*x+phase) + offset\n",
    "\n",
    "def variable_get_p0(x, y): \n",
    "    phase0 = 0\n",
    "    omega0 = 2.*np.pi/T\n",
    "    return [omega0, phase0]"
   ]
  },
  {
   "cell_type": "markdown",
   "metadata": {
    "colab_type": "text",
    "id": "Xyr_qjDSvLaO"
   },
   "source": [
    "We fit the model and plot results."
   ]
  },
  {
   "cell_type": "code",
   "execution_count": 10,
   "metadata": {
    "colab": {
     "base_uri": "https://localhost:8080/",
     "height": 265
    },
    "colab_type": "code",
    "executionInfo": {
     "elapsed": 973,
     "status": "ok",
     "timestamp": 1588080652523,
     "user": {
      "displayName": "Angelica Lo Duca",
      "photoUrl": "https://lh3.googleusercontent.com/a-/AOh14Ggso9VpaoC6b7-YibFA_8Qm-Td3IurPQuGu8ofIkg=s64",
      "userId": "13777285307189724523"
     },
     "user_tz": -120
    },
    "id": "77beJjcUvLaP",
    "outputId": "13b66e0f-a469-4909-949b-fa7dcd080648"
   },
   "outputs": [
    {
     "data": {
      "image/png": "[encoded data removed]",
      "text/plain": [
       "<Figure size 432x288 with 1 Axes>"
      ]
     },
     "metadata": {
      "needs_background": "light"
     },
     "output_type": "display_data"
    }
   ],
   "source": [
    "param, covariance = curve_fit(variable_sinusoid, features_c, y_c, p0=variable_get_p0(X_c,y_c))\n",
    "\n",
    "plt.xticks(x_ticks, x_labels)\n",
    "plt.ylabel('Number of arrivals')\n",
    "plt.plot(X, y, color=\"red\", linewidth=1,linestyle='dashed')\n",
    "plt.plot(X_c, variable_sinusoid(features_c, *param), color=\"blue\", linewidth=1)\n",
    "plt.grid()\n",
    "plt.show()"
   ]
  },
  {
   "cell_type": "code",
   "execution_count": 11,
   "metadata": {
    "colab": {
     "base_uri": "https://localhost:8080/",
     "height": 34
    },
    "colab_type": "code",
    "executionInfo": {
     "elapsed": 510,
     "status": "ok",
     "timestamp": 1588080653654,
     "user": {
      "displayName": "Angelica Lo Duca",
      "photoUrl": "https://lh3.googleusercontent.com/a-/AOh14Ggso9VpaoC6b7-YibFA_8Qm-Td3IurPQuGu8ofIkg=s64",
      "userId": "13777285307189724523"
     },
     "user_tz": -120
    },
    "id": "Bntl-JM3-0S-",
    "outputId": "8acbbb36-fe44-460e-8eb4-cfd97bcabab0"
   },
   "outputs": [
    {
     "data": {
      "text/plain": [
       "0.7854909005944601"
      ]
     },
     "execution_count": 11,
     "metadata": {},
     "output_type": "execute_result"
    }
   ],
   "source": [
    "#perr = np.sqrt(np.diag(covariance))\n",
    "y_pred = variable_sinusoid(features, *param)\n",
    "residuals = y - y_pred\n",
    "ss_res = np.sum(residuals**2)\n",
    "ss_tot = np.sum((y-np.mean(y))**2)\n",
    "r_squared = 1 - (ss_res / ss_tot)\n",
    "r_squared\n",
    "#y_pred = variable_sinusoid(features, *param)\n",
    "#RMSE = np.sqrt(np.sum((y_pred - y)**2)/n)\n",
    "#RMSE"
   ]
  },
  {
   "cell_type": "code",
   "execution_count": 12,
   "metadata": {
    "colab": {
     "base_uri": "https://localhost:8080/",
     "height": 34
    },
    "colab_type": "code",
    "executionInfo": {
     "elapsed": 559,
     "status": "ok",
     "timestamp": 1588080681288,
     "user": {
      "displayName": "Angelica Lo Duca",
      "photoUrl": "https://lh3.googleusercontent.com/a-/AOh14Ggso9VpaoC6b7-YibFA_8Qm-Td3IurPQuGu8ofIkg=s64",
      "userId": "13777285307189724523"
     },
     "user_tz": -120
    },
    "id": "4KsJN-VT_BJk",
    "outputId": "50d8d612-1de6-4352-8f63-39c1335563ff"
   },
   "outputs": [
    {
     "data": {
      "text/plain": [
       "(0.9202991661223768, 2.12068639478379e-36)"
      ]
     },
     "execution_count": 12,
     "metadata": {},
     "output_type": "execute_result"
    }
   ],
   "source": [
    "from scipy import stats\n",
    "z_score_it = stats.zscore(y)\n",
    "z_score_pt = stats.zscore(y_pred)\n",
    "stats.pearsonr(y_pred, y) "
   ]
  },
  {
   "cell_type": "markdown",
   "metadata": {
    "colab_type": "text",
    "id": "YkS5UAfZvLaR"
   },
   "source": [
    "## Predicting the future trendline\n",
    "The next step involves the prediction of the next sinusoid, i.e. the sinusoid for year 2020. In order to do it, we need to calculate the next max and minimum peaks. We can do it by approximating the vector of maximum and minimum peaks with two linear regressions, respectively. Then, we can calculate the maximum peak at instant i (August 2020) as the y value of the maximum linear regression given at instant (i-1) + pi (i-1 represents August 2019). Similarly, we can calculate the minimum peak for year 2020.\n",
    "\n",
    "Firstly, we reshape the peaks to be passed to the linear model. Then, we build two linear models, one for each predicting line, using the `sklearn` class `LinearRegression()`. After that, we fit every model using the `fit()` function."
   ]
  },
  {
   "cell_type": "code",
   "execution_count": 13,
   "metadata": {
    "colab": {
     "base_uri": "https://localhost:8080/",
     "height": 34
    },
    "colab_type": "code",
    "executionInfo": {
     "elapsed": 1340,
     "status": "ok",
     "timestamp": 1588081067240,
     "user": {
      "displayName": "Angelica Lo Duca",
      "photoUrl": "https://lh3.googleusercontent.com/a-/AOh14Ggso9VpaoC6b7-YibFA_8Qm-Td3IurPQuGu8ofIkg=s64",
      "userId": "13777285307189724523"
     },
     "user_tz": -120
    },
    "id": "vIdtSGjJvLaS",
    "outputId": "0d7bf7ad-5482-41f8-9cd7-9bbc089e32c3"
   },
   "outputs": [
    {
     "data": {
      "text/plain": [
       "LinearRegression(copy_X=True, fit_intercept=True, n_jobs=None, normalize=False)"
      ]
     },
     "execution_count": 13,
     "metadata": {},
     "output_type": "execute_result"
    }
   ],
   "source": [
    "from sklearn import linear_model\n",
    "\n",
    "# approximate curve of peaks with\n",
    "min_peaks = get_peaks(y_c,min)\n",
    "max_peaks = get_peaks(y_c,max)\n",
    "\n",
    "# reshape x_peaks\n",
    "x_min_peaks = list(map(lambda el:[el], min_peaks[0])) \n",
    "x_max_peaks = list(map(lambda el:[el], max_peaks[0]))\n",
    "\n",
    "\n",
    "\n",
    "# min model\n",
    "model_min = linear_model.LinearRegression()\n",
    "model_min.fit(x_min_peaks,min_peaks[1])\n",
    "\n",
    "# max model\n",
    "model_max = linear_model.LinearRegression()\n",
    "model_max.fit(x_max_peaks,max_peaks[1])"
   ]
  },
  {
   "cell_type": "markdown",
   "metadata": {
    "colab_type": "text",
    "id": "w2D7DsMWvLaV"
   },
   "source": [
    "We append the next peaks both to `x_max_peaks` and `x_min_peaks` and then we predict the maximum and minimum peaks through the `predict()` function."
   ]
  },
  {
   "cell_type": "code",
   "execution_count": 14,
   "metadata": {
    "colab": {},
    "colab_type": "code",
    "id": "D3xP7JEWvLaW"
   },
   "outputs": [],
   "source": [
    "x_min_peaks.append([x_min_peaks[len(x_min_peaks) -1][0] + T])\n",
    "x_max_peaks.append([x_max_peaks[len(x_max_peaks) -1][0] + T])\n",
    "y_pred_min = model_min.predict(x_min_peaks)\n",
    "y_pred_max = model_max.predict(x_max_peaks)"
   ]
  },
  {
   "cell_type": "code",
   "execution_count": 15,
   "metadata": {
    "colab": {
     "base_uri": "https://localhost:8080/",
     "height": 34
    },
    "colab_type": "code",
    "executionInfo": {
     "elapsed": 599,
     "status": "ok",
     "timestamp": 1588081072545,
     "user": {
      "displayName": "Angelica Lo Duca",
      "photoUrl": "https://lh3.googleusercontent.com/a-/AOh14Ggso9VpaoC6b7-YibFA_8Qm-Td3IurPQuGu8ofIkg=s64",
      "userId": "13777285307189724523"
     },
     "user_tz": -120
    },
    "id": "YndrfFY2Advr",
    "outputId": "c90ec4dc-2218-4e8e-cf0f-581f1b63050b"
   },
   "outputs": [
    {
     "data": {
      "text/plain": [
       "(0.9642616839291615, 0.0004549075619139592)"
      ]
     },
     "execution_count": 15,
     "metadata": {},
     "output_type": "execute_result"
    }
   ],
   "source": [
    "stats.pearsonr(y_pred_min[:-1], min_peaks[1]) "
   ]
  },
  {
   "cell_type": "code",
   "execution_count": 16,
   "metadata": {
    "colab": {
     "base_uri": "https://localhost:8080/",
     "height": 34
    },
    "colab_type": "code",
    "executionInfo": {
     "elapsed": 610,
     "status": "ok",
     "timestamp": 1588081130650,
     "user": {
      "displayName": "Angelica Lo Duca",
      "photoUrl": "https://lh3.googleusercontent.com/a-/AOh14Ggso9VpaoC6b7-YibFA_8Qm-Td3IurPQuGu8ofIkg=s64",
      "userId": "13777285307189724523"
     },
     "user_tz": -120
    },
    "id": "SZj1Fff3Au2v",
    "outputId": "b4db880f-c933-4f38-caad-f8cc6d0648fd"
   },
   "outputs": [
    {
     "data": {
      "text/plain": [
       "(0.8543343908841297, 0.014357748045269247)"
      ]
     },
     "execution_count": 16,
     "metadata": {},
     "output_type": "execute_result"
    }
   ],
   "source": [
    "stats.pearsonr(y_pred_max[:-1], max_peaks[1]) "
   ]
  },
  {
   "cell_type": "markdown",
   "metadata": {
    "colab_type": "text",
    "id": "7qjj_g26vLab"
   },
   "source": [
    "We plot the two predicting lines."
   ]
  },
  {
   "cell_type": "code",
   "execution_count": 17,
   "metadata": {
    "colab": {
     "base_uri": "https://localhost:8080/",
     "height": 265
    },
    "colab_type": "code",
    "executionInfo": {
     "elapsed": 1453,
     "status": "ok",
     "timestamp": 1587115750371,
     "user": {
      "displayName": "Angelica Lo Duca",
      "photoUrl": "https://lh3.googleusercontent.com/a-/AOh14Ggso9VpaoC6b7-YibFA_8Qm-Td3IurPQuGu8ofIkg=s64",
      "userId": "13777285307189724523"
     },
     "user_tz": -120
    },
    "id": "_dIlhObNvLac",
    "outputId": "339c6de0-730b-431f-e118-58af6c0377ba"
   },
   "outputs": [
    {
     "data": {
      "image/png": "[encoded data removed]",
      "text/plain": [
       "<Figure size 432x288 with 1 Axes>"
      ]
     },
     "metadata": {
      "needs_background": "light"
     },
     "output_type": "display_data"
    }
   ],
   "source": [
    "plt.xticks(x_ticks, x_labels)\n",
    "plt.plot(X, y, color=\"red\", linewidth=1,linestyle='dashed')\n",
    "plt.scatter(x_min_peaks, y_pred_min, color=\"green\", linewidth=1,linestyle='dashed')\n",
    "plt.scatter(x_max_peaks, y_pred_max, color=\"green\", linewidth=1,linestyle='dashed')\n",
    "plt.ylabel('Number of arrivals')\n",
    "plt.grid()\n",
    "plt.show()"
   ]
  },
  {
   "cell_type": "markdown",
   "metadata": {
    "colab_type": "text",
    "id": "hrI90uugvLag"
   },
   "source": [
    "We calculate the sinusoid for all the period, including 2020. We build a variable `X_pred`, which contains `X` and the 12 months of 2020."
   ]
  },
  {
   "cell_type": "code",
   "execution_count": 18,
   "metadata": {
    "colab": {},
    "colab_type": "code",
    "id": "60Xz3MlOvLah"
   },
   "outputs": [],
   "source": [
    "X_pred = np.array(X_c)\n",
    "month = X_pred[len(X_pred)-1] + 1\n",
    "mp = 5\n",
    "for i in range(1,mp):\n",
    "    X_pred = np.append(X_pred,month)\n",
    "    month = month + 1"
   ]
  },
  {
   "cell_type": "markdown",
   "metadata": {
    "colab_type": "text",
    "id": "yPSXHahgvLaj"
   },
   "source": [
    "Now, we can update the variable `features_pred` to be passed to the `variable_sinusoid()` function. Firstly, we update the amplitude `A` and the `offset` with new values and then we update the `features_pred` variable."
   ]
  },
  {
   "cell_type": "code",
   "execution_count": 19,
   "metadata": {
    "colab": {
     "base_uri": "https://localhost:8080/",
     "height": 51
    },
    "colab_type": "code",
    "executionInfo": {
     "elapsed": 531,
     "status": "ok",
     "timestamp": 1587115756577,
     "user": {
      "displayName": "Angelica Lo Duca",
      "photoUrl": "https://lh3.googleusercontent.com/a-/AOh14Ggso9VpaoC6b7-YibFA_8Qm-Td3IurPQuGu8ofIkg=s64",
      "userId": "13777285307189724523"
     },
     "user_tz": -120
    },
    "id": "8pXpCI-uvLaj",
    "outputId": "09e1ac4d-e7a1-4073-fdbc-ffe17421d973"
   },
   "outputs": [
    {
     "name": "stdout",
     "output_type": "stream",
     "text": [
      "87\n",
      "87\n"
     ]
    }
   ],
   "source": [
    "index = len(max_peaks[0])-1\n",
    "c_a = (max_peaks[1][index] - min_peaks[1][index])/2\n",
    "c_offset = min_peaks[1][index] + c_a\n",
    "\n",
    "A_c = list(A[:-cut])\n",
    "offset_c = list(offset[:-cut])\n",
    "for j in range(1,mp):\n",
    "        A_c.append(c_a)\n",
    "        offset_c.append(c_offset)\n",
    "\n",
    "features_pred = [X_pred, A_c, offset_c]\n",
    "print(len(X_pred))\n",
    "print(len(A_c))"
   ]
  },
  {
   "cell_type": "markdown",
   "metadata": {
    "colab_type": "text",
    "id": "Wy-0NpD2vLam"
   },
   "source": [
    "Finally, we plot graphs."
   ]
  },
  {
   "cell_type": "code",
   "execution_count": 20,
   "metadata": {
    "colab": {
     "base_uri": "https://localhost:8080/",
     "height": 265
    },
    "colab_type": "code",
    "executionInfo": {
     "elapsed": 1099,
     "status": "ok",
     "timestamp": 1587115778027,
     "user": {
      "displayName": "Angelica Lo Duca",
      "photoUrl": "https://lh3.googleusercontent.com/a-/AOh14Ggso9VpaoC6b7-YibFA_8Qm-Td3IurPQuGu8ofIkg=s64",
      "userId": "13777285307189724523"
     },
     "user_tz": -120
    },
    "id": "9EtRFrKSvLan",
    "outputId": "21353d6c-550d-46dc-fc5a-e3976285bb68"
   },
   "outputs": [
    {
     "data": {
      "image/png": "[encoded data removed]",
      "text/plain": [
       "<Figure size 432x288 with 1 Axes>"
      ]
     },
     "metadata": {
      "needs_background": "light"
     },
     "output_type": "display_data"
    }
   ],
   "source": [
    "plt.xticks(x_ticks, x_labels)\n",
    "plt.plot(X, y, color=\"red\", linewidth=1,linestyle='dashed')\n",
    "plt.plot(X_pred, variable_sinusoid(features_pred, *param), color=\"blue\", linewidth=1)\n",
    "plt.grid()\n",
    "plt.ylabel('Number of arrivals')\n",
    "plt.savefig(\"plots/sinusoid_pt.png\")\n",
    "plt.show()"
   ]
  },
  {
   "cell_type": "markdown",
   "metadata": {
    "colab_type": "text",
    "id": "BwVkq4y1eUOI"
   },
   "source": [
    "# Calculate difference\n",
    "Now we calculate the difference between real values (due to COVID-19) and predicted values. This difference will be used to predict real values for Italy."
   ]
  },
  {
   "cell_type": "code",
   "execution_count": 21,
   "metadata": {
    "colab": {
     "base_uri": "https://localhost:8080/",
     "height": 34
    },
    "colab_type": "code",
    "executionInfo": {
     "elapsed": 1158,
     "status": "ok",
     "timestamp": 1587115869759,
     "user": {
      "displayName": "Angelica Lo Duca",
      "photoUrl": "https://lh3.googleusercontent.com/a-/AOh14Ggso9VpaoC6b7-YibFA_8Qm-Td3IurPQuGu8ofIkg=s64",
      "userId": "13777285307189724523"
     },
     "user_tz": -120
    },
    "id": "L3xqDJg6dAcE",
    "outputId": "fa248d99-c4fd-4132-df11-bf6ba53f3e85"
   },
   "outputs": [
    {
     "data": {
      "text/plain": [
       "48637"
      ]
     },
     "execution_count": 21,
     "metadata": {},
     "output_type": "execute_result"
    }
   ],
   "source": [
    "mp = 0\n",
    "#A = np.array(y[len(y)-mp:]) # valore reale\n",
    "A = np.array(y)\n",
    "A[23]"
   ]
  },
  {
   "cell_type": "code",
   "execution_count": 22,
   "metadata": {
    "colab": {
     "base_uri": "https://localhost:8080/",
     "height": 34
    },
    "colab_type": "code",
    "executionInfo": {
     "elapsed": 779,
     "status": "ok",
     "timestamp": 1587115871087,
     "user": {
      "displayName": "Angelica Lo Duca",
      "photoUrl": "https://lh3.googleusercontent.com/a-/AOh14Ggso9VpaoC6b7-YibFA_8Qm-Td3IurPQuGu8ofIkg=s64",
      "userId": "13777285307189724523"
     },
     "user_tz": -120
    },
    "id": "hei4IsQAdAcK",
    "outputId": "c7759aed-fb19-422b-9539-40a46c0b75e6"
   },
   "outputs": [
    {
     "data": {
      "text/plain": [
       "25267.84620756453"
      ]
     },
     "execution_count": 22,
     "metadata": {},
     "output_type": "execute_result"
    }
   ],
   "source": [
    "B = variable_sinusoid(features_pred, *param) # valore predetto\n",
    "#B = B[len(B)-mp:]\n",
    "B[23]"
   ]
  },
  {
   "cell_type": "code",
   "execution_count": 23,
   "metadata": {
    "colab": {
     "base_uri": "https://localhost:8080/",
     "height": 119
    },
    "colab_type": "code",
    "executionInfo": {
     "elapsed": 577,
     "status": "ok",
     "timestamp": 1587115872168,
     "user": {
      "displayName": "Angelica Lo Duca",
      "photoUrl": "https://lh3.googleusercontent.com/a-/AOh14Ggso9VpaoC6b7-YibFA_8Qm-Td3IurPQuGu8ofIkg=s64",
      "userId": "13777285307189724523"
     },
     "user_tz": -120
    },
    "id": "9UwomCuddAcO",
    "outputId": "ba7749fa-3747-40d5-d3a8-205262a96245"
   },
   "outputs": [
    {
     "name": "stdout",
     "output_type": "stream",
     "text": [
      "SAD: 759559.5738275202\n",
      "SSD: 14009348509.47855\n",
      "correlation: 0.896585854322301\n",
      "[ 12.55063004 -18.26957259 -91.75074666]\n",
      "[ 59.66783167  28.84762904 -44.63354503]\n",
      "[ -34.56657159  -65.38677422 -138.8679483 ]\n"
     ]
    }
   ],
   "source": [
    "# the sum of absolute differences (SAD), the sum of squared differences (SSD) or the correlation coefficient:\n",
    "print( \"SAD:\", np.sum(np.abs(A - B)))\n",
    "print (\"SSD:\", np.sum(np.square(A - B)))\n",
    "print (\"correlation:\", np.corrcoef(np.array((A, B)))[0, 1])\n",
    "# calcolo la varizione percentuale (valore finale - valore iniziale)/valore iniziale\n",
    "perc = (A-B)/B*100\n",
    "#perc = A-B\n",
    "# nel mese di dicembre c'è un piccolo picco (dovuto al turismo invernale), per cui il mio sistema commette un errore\n",
    "# non considero questi picchi per il calcolo degli errori\n",
    "\n",
    "errors = []\n",
    "for i in range(1,len(perc)-3):\n",
    "    if i%12 != 0:\n",
    "        errors.append(perc[i-1])\n",
    "max_error = max(errors)\n",
    "\n",
    "max_perc = perc[len(perc)-3:] + max_error\n",
    "min_perc = perc[len(perc)-3:] - max_error\n",
    "print(perc[len(perc)-3:])\n",
    "print(max_perc)\n",
    "print(min_perc)"
   ]
  },
  {
   "cell_type": "markdown",
   "metadata": {
    "colab_type": "text",
    "id": "zowzBXfxvLar"
   },
   "source": [
    "We also export predictions to a CSV file."
   ]
  },
  {
   "cell_type": "code",
   "execution_count": 24,
   "metadata": {
    "colab": {},
    "colab_type": "code",
    "id": "giuYWR2DvLar"
   },
   "outputs": [],
   "source": [
    "import csv\n",
    "\n",
    "table = []\n",
    "y_pred = variable_sinusoid(features_pred, *param)\n",
    "for i in range(0, len(X_pred)):\n",
    "    row = { 'x' : X_pred[i], 'y' : y_pred[i]}\n",
    "    table.append(row)\n",
    "\n",
    "names = table[0].keys()\n",
    "with open('data/pistoia_arrivals_prediction.csv', 'w') as output_file:\n",
    "    dict_writer = csv.DictWriter(output_file, names)\n",
    "    dict_writer.writeheader()\n",
    "    dict_writer.writerows(table)"
   ]
  }
 ],
 "metadata": {
  "colab": {
   "name": "AnalyseTourism PT.ipynb",
   "provenance": []
  },
  "kernelspec": {
   "display_name": "Python 3",
   "language": "python",
   "name": "python3"
  },
  "language_info": {
   "codemirror_mode": {
    "name": "ipython",
    "version": 3
   },
   "file_extension": ".py",
   "mimetype": "text/x-python",
   "name": "python",
   "nbconvert_exporter": "python",
   "pygments_lexer": "ipython3",
   "version": "3.8.1"
  }
 },
 "nbformat": 4,
 "nbformat_minor": 1
}
