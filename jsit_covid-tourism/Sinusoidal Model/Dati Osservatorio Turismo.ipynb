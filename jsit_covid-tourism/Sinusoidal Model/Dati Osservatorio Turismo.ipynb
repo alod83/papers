{
 "cells": [
  {
   "cell_type": "markdown",
   "metadata": {
    "colab_type": "text",
    "id": "K8A7J8JXiOzm"
   },
   "source": [
    "# Scraper for Osservatorio Turismo Pistoia\n",
    "This notebook implements a scraper for Osservatorio Turismo Pistoia available at https://turismo5pistoia.regione.toscana.it/. The scraper downloads all the tables for each month from 2012 to 2020."
   ]
  },
  {
   "cell_type": "markdown",
   "metadata": {
    "colab_type": "text",
    "id": "yFLlXlI2j9TW"
   },
   "source": [
    "Install selenium and chrome driver"
   ]
  },
  {
   "cell_type": "code",
   "execution_count": 7,
   "metadata": {
    "colab": {
     "base_uri": "https://localhost:8080/",
     "height": 1000
    },
    "colab_type": "code",
    "executionInfo": {
     "elapsed": 2231355,
     "status": "ok",
     "timestamp": 1587119833017,
     "user": {
      "displayName": "Angelica Lo Duca",
      "photoUrl": "https://lh3.googleusercontent.com/a-/AOh14Ggso9VpaoC6b7-YibFA_8Qm-Td3IurPQuGu8ofIkg=s64",
      "userId": "13777285307189724523"
     },
     "user_tz": -120
    },
    "id": "_biBXOJeiFT7",
    "outputId": "6dfaae72-a2f9-405d-9e20-4d705cf731fe"
   },
   "outputs": [
    {
     "ename": "NoSuchElementException",
     "evalue": "Message: no such element: Unable to locate element: {\"method\":\"xpath\",\"selector\":\"/html/body/div[1]/div[5]/div/div[1]/ul/li[4]/a/i\"}\n  (Session info: headless chrome=85.0.4183.83)\n",
     "output_type": "error",
     "traceback": [
      "\u001b[0;31m---------------------------------------------------------------------------\u001b[0m",
      "\u001b[0;31mNoSuchElementException\u001b[0m                    Traceback (most recent call last)",
      "\u001b[0;32m<ipython-input-7-f546e990fd49>\u001b[0m in \u001b[0;36m<module>\u001b[0;34m\u001b[0m\n\u001b[1;32m     17\u001b[0m \u001b[0mdriver\u001b[0m\u001b[0;34m.\u001b[0m\u001b[0mfind_element_by_xpath\u001b[0m\u001b[0;34m(\u001b[0m\u001b[0;34m\"//*[@id='osservaturismo']\"\u001b[0m\u001b[0;34m)\u001b[0m\u001b[0;34m.\u001b[0m\u001b[0mclick\u001b[0m\u001b[0;34m(\u001b[0m\u001b[0;34m)\u001b[0m\u001b[0;34m\u001b[0m\u001b[0;34m\u001b[0m\u001b[0m\n\u001b[1;32m     18\u001b[0m \u001b[0mtime\u001b[0m\u001b[0;34m.\u001b[0m\u001b[0msleep\u001b[0m\u001b[0;34m(\u001b[0m\u001b[0;36m5\u001b[0m\u001b[0;34m)\u001b[0m\u001b[0;34m\u001b[0m\u001b[0;34m\u001b[0m\u001b[0m\n\u001b[0;32m---> 19\u001b[0;31m \u001b[0mdriver\u001b[0m\u001b[0;34m.\u001b[0m\u001b[0mfind_element_by_xpath\u001b[0m\u001b[0;34m(\u001b[0m\u001b[0;34m\"/html/body/div[1]/div[5]/div/div[1]/ul/li[4]/a/i\"\u001b[0m\u001b[0;34m)\u001b[0m\u001b[0;34m.\u001b[0m\u001b[0mclick\u001b[0m\u001b[0;34m(\u001b[0m\u001b[0;34m)\u001b[0m\u001b[0;34m\u001b[0m\u001b[0;34m\u001b[0m\u001b[0m\n\u001b[0m\u001b[1;32m     20\u001b[0m \u001b[0mtime\u001b[0m\u001b[0;34m.\u001b[0m\u001b[0msleep\u001b[0m\u001b[0;34m(\u001b[0m\u001b[0;36m5\u001b[0m\u001b[0;34m)\u001b[0m\u001b[0;34m\u001b[0m\u001b[0;34m\u001b[0m\u001b[0m\n\u001b[1;32m     21\u001b[0m \u001b[0;34m\u001b[0m\u001b[0m\n",
      "\u001b[0;32m/Library/Frameworks/Python.framework/Versions/3.8/lib/python3.8/site-packages/selenium/webdriver/remote/webdriver.py\u001b[0m in \u001b[0;36mfind_element_by_xpath\u001b[0;34m(self, xpath)\u001b[0m\n\u001b[1;32m    392\u001b[0m             \u001b[0melement\u001b[0m \u001b[0;34m=\u001b[0m \u001b[0mdriver\u001b[0m\u001b[0;34m.\u001b[0m\u001b[0mfind_element_by_xpath\u001b[0m\u001b[0;34m(\u001b[0m\u001b[0;34m'//div/td[1]'\u001b[0m\u001b[0;34m)\u001b[0m\u001b[0;34m\u001b[0m\u001b[0;34m\u001b[0m\u001b[0m\n\u001b[1;32m    393\u001b[0m         \"\"\"\n\u001b[0;32m--> 394\u001b[0;31m         \u001b[0;32mreturn\u001b[0m \u001b[0mself\u001b[0m\u001b[0;34m.\u001b[0m\u001b[0mfind_element\u001b[0m\u001b[0;34m(\u001b[0m\u001b[0mby\u001b[0m\u001b[0;34m=\u001b[0m\u001b[0mBy\u001b[0m\u001b[0;34m.\u001b[0m\u001b[0mXPATH\u001b[0m\u001b[0;34m,\u001b[0m \u001b[0mvalue\u001b[0m\u001b[0;34m=\u001b[0m\u001b[0mxpath\u001b[0m\u001b[0;34m)\u001b[0m\u001b[0;34m\u001b[0m\u001b[0;34m\u001b[0m\u001b[0m\n\u001b[0m\u001b[1;32m    395\u001b[0m \u001b[0;34m\u001b[0m\u001b[0m\n\u001b[1;32m    396\u001b[0m     \u001b[0;32mdef\u001b[0m \u001b[0mfind_elements_by_xpath\u001b[0m\u001b[0;34m(\u001b[0m\u001b[0mself\u001b[0m\u001b[0;34m,\u001b[0m \u001b[0mxpath\u001b[0m\u001b[0;34m)\u001b[0m\u001b[0;34m:\u001b[0m\u001b[0;34m\u001b[0m\u001b[0;34m\u001b[0m\u001b[0m\n",
      "\u001b[0;32m/Library/Frameworks/Python.framework/Versions/3.8/lib/python3.8/site-packages/selenium/webdriver/remote/webdriver.py\u001b[0m in \u001b[0;36mfind_element\u001b[0;34m(self, by, value)\u001b[0m\n\u001b[1;32m    974\u001b[0m                 \u001b[0mby\u001b[0m \u001b[0;34m=\u001b[0m \u001b[0mBy\u001b[0m\u001b[0;34m.\u001b[0m\u001b[0mCSS_SELECTOR\u001b[0m\u001b[0;34m\u001b[0m\u001b[0;34m\u001b[0m\u001b[0m\n\u001b[1;32m    975\u001b[0m                 \u001b[0mvalue\u001b[0m \u001b[0;34m=\u001b[0m \u001b[0;34m'[name=\"%s\"]'\u001b[0m \u001b[0;34m%\u001b[0m \u001b[0mvalue\u001b[0m\u001b[0;34m\u001b[0m\u001b[0;34m\u001b[0m\u001b[0m\n\u001b[0;32m--> 976\u001b[0;31m         return self.execute(Command.FIND_ELEMENT, {\n\u001b[0m\u001b[1;32m    977\u001b[0m             \u001b[0;34m'using'\u001b[0m\u001b[0;34m:\u001b[0m \u001b[0mby\u001b[0m\u001b[0;34m,\u001b[0m\u001b[0;34m\u001b[0m\u001b[0;34m\u001b[0m\u001b[0m\n\u001b[1;32m    978\u001b[0m             'value': value})['value']\n",
      "\u001b[0;32m/Library/Frameworks/Python.framework/Versions/3.8/lib/python3.8/site-packages/selenium/webdriver/remote/webdriver.py\u001b[0m in \u001b[0;36mexecute\u001b[0;34m(self, driver_command, params)\u001b[0m\n\u001b[1;32m    319\u001b[0m         \u001b[0mresponse\u001b[0m \u001b[0;34m=\u001b[0m \u001b[0mself\u001b[0m\u001b[0;34m.\u001b[0m\u001b[0mcommand_executor\u001b[0m\u001b[0;34m.\u001b[0m\u001b[0mexecute\u001b[0m\u001b[0;34m(\u001b[0m\u001b[0mdriver_command\u001b[0m\u001b[0;34m,\u001b[0m \u001b[0mparams\u001b[0m\u001b[0;34m)\u001b[0m\u001b[0;34m\u001b[0m\u001b[0;34m\u001b[0m\u001b[0m\n\u001b[1;32m    320\u001b[0m         \u001b[0;32mif\u001b[0m \u001b[0mresponse\u001b[0m\u001b[0;34m:\u001b[0m\u001b[0;34m\u001b[0m\u001b[0;34m\u001b[0m\u001b[0m\n\u001b[0;32m--> 321\u001b[0;31m             \u001b[0mself\u001b[0m\u001b[0;34m.\u001b[0m\u001b[0merror_handler\u001b[0m\u001b[0;34m.\u001b[0m\u001b[0mcheck_response\u001b[0m\u001b[0;34m(\u001b[0m\u001b[0mresponse\u001b[0m\u001b[0;34m)\u001b[0m\u001b[0;34m\u001b[0m\u001b[0;34m\u001b[0m\u001b[0m\n\u001b[0m\u001b[1;32m    322\u001b[0m             response['value'] = self._unwrap_value(\n\u001b[1;32m    323\u001b[0m                 response.get('value', None))\n",
      "\u001b[0;32m/Library/Frameworks/Python.framework/Versions/3.8/lib/python3.8/site-packages/selenium/webdriver/remote/errorhandler.py\u001b[0m in \u001b[0;36mcheck_response\u001b[0;34m(self, response)\u001b[0m\n\u001b[1;32m    240\u001b[0m                 \u001b[0malert_text\u001b[0m \u001b[0;34m=\u001b[0m \u001b[0mvalue\u001b[0m\u001b[0;34m[\u001b[0m\u001b[0;34m'alert'\u001b[0m\u001b[0;34m]\u001b[0m\u001b[0;34m.\u001b[0m\u001b[0mget\u001b[0m\u001b[0;34m(\u001b[0m\u001b[0;34m'text'\u001b[0m\u001b[0;34m)\u001b[0m\u001b[0;34m\u001b[0m\u001b[0;34m\u001b[0m\u001b[0m\n\u001b[1;32m    241\u001b[0m             \u001b[0;32mraise\u001b[0m \u001b[0mexception_class\u001b[0m\u001b[0;34m(\u001b[0m\u001b[0mmessage\u001b[0m\u001b[0;34m,\u001b[0m \u001b[0mscreen\u001b[0m\u001b[0;34m,\u001b[0m \u001b[0mstacktrace\u001b[0m\u001b[0;34m,\u001b[0m \u001b[0malert_text\u001b[0m\u001b[0;34m)\u001b[0m\u001b[0;34m\u001b[0m\u001b[0;34m\u001b[0m\u001b[0m\n\u001b[0;32m--> 242\u001b[0;31m         \u001b[0;32mraise\u001b[0m \u001b[0mexception_class\u001b[0m\u001b[0;34m(\u001b[0m\u001b[0mmessage\u001b[0m\u001b[0;34m,\u001b[0m \u001b[0mscreen\u001b[0m\u001b[0;34m,\u001b[0m \u001b[0mstacktrace\u001b[0m\u001b[0;34m)\u001b[0m\u001b[0;34m\u001b[0m\u001b[0;34m\u001b[0m\u001b[0m\n\u001b[0m\u001b[1;32m    243\u001b[0m \u001b[0;34m\u001b[0m\u001b[0m\n\u001b[1;32m    244\u001b[0m     \u001b[0;32mdef\u001b[0m \u001b[0m_value_or_default\u001b[0m\u001b[0;34m(\u001b[0m\u001b[0mself\u001b[0m\u001b[0;34m,\u001b[0m \u001b[0mobj\u001b[0m\u001b[0;34m,\u001b[0m \u001b[0mkey\u001b[0m\u001b[0;34m,\u001b[0m \u001b[0mdefault\u001b[0m\u001b[0;34m)\u001b[0m\u001b[0;34m:\u001b[0m\u001b[0;34m\u001b[0m\u001b[0;34m\u001b[0m\u001b[0m\n",
      "\u001b[0;31mNoSuchElementException\u001b[0m: Message: no such element: Unable to locate element: {\"method\":\"xpath\",\"selector\":\"/html/body/div[1]/div[5]/div/div[1]/ul/li[4]/a/i\"}\n  (Session info: headless chrome=85.0.4183.83)\n"
     ]
    }
   ],
   "source": [
    "from selenium import webdriver\n",
    "from selenium.webdriver.chrome.options import Options  \n",
    "import time\n",
    "import pandas as pd\n",
    "\n",
    "options = Options()  \n",
    "options.add_argument(\"--headless\") \n",
    "#options.add_argument(\"--lang=it\")\n",
    "#options.add_argument('--no-sandbox')\n",
    "#options.add_argument('--disable-dev-shm-usage')\n",
    "driver = webdriver.Chrome(options=options)\n",
    "\n",
    "page = driver.get(\"https://turismo5pistoia.regione.toscana.it/\")\n",
    "\n",
    "\n",
    "# click on the first button\n",
    "driver.find_element_by_xpath(\"//*[@id='osservaturismo']\").click()\n",
    "time.sleep(5)\n",
    "driver.find_element_by_xpath(\"/html/body/div[1]/div[5]/div/div[1]/ul/li[4]/a/i\").click()\n",
    "time.sleep(5)\n",
    "\n",
    "# number of years \n",
    "n = 9\n",
    "\n",
    "output = []\n",
    "for year in range(n,0,-1):\n",
    "    for month in range(1,13):\n",
    "        print(\"year \" + str(year) + \" month \" + str(month))\n",
    "        time.sleep(5)\n",
    "        driver.find_element_by_xpath(\"//*[@id='anno_primo_chosen']\").click()\n",
    "        driver.find_element_by_xpath(\"//*[@id='anno_primo_chosen']/div/ul/li[\"+ str(year) + \"]\").click()\n",
    "        time.sleep(3)\n",
    "        driver.find_element_by_xpath(\"//*[@id='mese_primo_chosen']\").click()\n",
    "        driver.find_element_by_xpath(\"//*[@id='mese_primo_chosen']/div/ul/li[\" + str(month) + \"]\").click()\n",
    "        time.sleep(3)\n",
    "        driver.find_element_by_xpath(\"//*[@id='anno_secondo_chosen']\").click()\n",
    "        driver.find_element_by_xpath(\"//*[@id='anno_secondo_chosen']/div/ul/li[\"+ str(year) + \"]\").click()\n",
    "        time.sleep(3)\n",
    "        driver.find_element_by_xpath(\"//*[@id='mese_secondo_chosen']\").click()\n",
    "        driver.find_element_by_xpath(\"//*[@id='mese_secondo_chosen']/div/ul/li[\" + str(month) + \"]\").click()\n",
    "        time.sleep(3)\n",
    "        driver.find_element_by_xpath(\"/html/body/div[1]/div[5]/div/div[2]/div[2]/div/div[4]/div[6]/button\").click()\n",
    "        time.sleep(5)\n",
    "        # install lxml\n",
    "        # get the table\n",
    "        table = driver.find_element_by_xpath(\"/html/body/div[1]/div[5]/div/div[2]/div[2]/div/div[5]/div[2]/div[1]/div/div[1]/table\").get_attribute('outerHTML')\n",
    "        df  = pd.read_html(table)[0]\n",
    "        #print(df)\n",
    "        current_year = 2021 - year\n",
    "        #df.to_csv (root_path + 'data/' + str(current_year) + \"-\" + str(month) + \".csv\" , index = False, header=True)\n",
    "        #print(df.head(10))\n",
    "        arrivals = df['Total']['Total'].sum()\n",
    "        output.append({'Year' : current_year, 'Month' : month, 'Arrivals' : arrivals})\n",
    "driver.close()"
   ]
  },
  {
   "cell_type": "code",
   "execution_count": 0,
   "metadata": {
    "colab": {},
    "colab_type": "code",
    "id": "BI5aFHvhiFUA",
    "outputId": "53e47ef6-5412-471a-c3c9-89daa5f4991a"
   },
   "outputs": [
    {
     "data": {
      "text/plain": [
       "[{'Year': 2012, 'Month': 1, 'Arrivals': 4766},\n",
       " {'Year': 2012, 'Month': 2, 'Arrivals': 14751},\n",
       " {'Year': 2012, 'Month': 3, 'Arrivals': 18562},\n",
       " {'Year': 2012, 'Month': 4, 'Arrivals': 41478},\n",
       " {'Year': 2012, 'Month': 5, 'Arrivals': 55215},\n",
       " {'Year': 2012, 'Month': 6, 'Arrivals': 53843},\n",
       " {'Year': 2012, 'Month': 7, 'Arrivals': 53480},\n",
       " {'Year': 2012, 'Month': 8, 'Arrivals': 60192},\n",
       " {'Year': 2012, 'Month': 9, 'Arrivals': 53630},\n",
       " {'Year': 2012, 'Month': 10, 'Arrivals': 53557},\n",
       " {'Year': 2012, 'Month': 11, 'Arrivals': 42304},\n",
       " {'Year': 2012, 'Month': 12, 'Arrivals': 25387},\n",
       " {'Year': 2013, 'Month': 1, 'Arrivals': 23123},\n",
       " {'Year': 2013, 'Month': 2, 'Arrivals': 20135},\n",
       " {'Year': 2013, 'Month': 3, 'Arrivals': 25108},\n",
       " {'Year': 2013, 'Month': 4, 'Arrivals': 52190},\n",
       " {'Year': 2013, 'Month': 5, 'Arrivals': 69743},\n",
       " {'Year': 2013, 'Month': 6, 'Arrivals': 74456},\n",
       " {'Year': 2013, 'Month': 7, 'Arrivals': 70561},\n",
       " {'Year': 2013, 'Month': 8, 'Arrivals': 89703},\n",
       " {'Year': 2013, 'Month': 9, 'Arrivals': 80941},\n",
       " {'Year': 2013, 'Month': 10, 'Arrivals': 74216},\n",
       " {'Year': 2013, 'Month': 11, 'Arrivals': 64389},\n",
       " {'Year': 2013, 'Month': 12, 'Arrivals': 35559},\n",
       " {'Year': 2014, 'Month': 1, 'Arrivals': 34142},\n",
       " {'Year': 2014, 'Month': 2, 'Arrivals': 23163},\n",
       " {'Year': 2014, 'Month': 3, 'Arrivals': 25637},\n",
       " {'Year': 2014, 'Month': 4, 'Arrivals': 55374},\n",
       " {'Year': 2014, 'Month': 5, 'Arrivals': 93225},\n",
       " {'Year': 2014, 'Month': 6, 'Arrivals': 87610},\n",
       " {'Year': 2014, 'Month': 7, 'Arrivals': 80982},\n",
       " {'Year': 2014, 'Month': 8, 'Arrivals': 89531},\n",
       " {'Year': 2014, 'Month': 9, 'Arrivals': 83453},\n",
       " {'Year': 2014, 'Month': 10, 'Arrivals': 77576},\n",
       " {'Year': 2014, 'Month': 11, 'Arrivals': 68429},\n",
       " {'Year': 2014, 'Month': 12, 'Arrivals': 41688},\n",
       " {'Year': 2015, 'Month': 1, 'Arrivals': 48637},\n",
       " {'Year': 2015, 'Month': 2, 'Arrivals': 26215},\n",
       " {'Year': 2015, 'Month': 3, 'Arrivals': 30666},\n",
       " {'Year': 2015, 'Month': 4, 'Arrivals': 54958},\n",
       " {'Year': 2015, 'Month': 5, 'Arrivals': 85248},\n",
       " {'Year': 2015, 'Month': 6, 'Arrivals': 90483},\n",
       " {'Year': 2015, 'Month': 7, 'Arrivals': 85379},\n",
       " {'Year': 2015, 'Month': 8, 'Arrivals': 92972},\n",
       " {'Year': 2015, 'Month': 9, 'Arrivals': 88208},\n",
       " {'Year': 2015, 'Month': 10, 'Arrivals': 75695},\n",
       " {'Year': 2015, 'Month': 11, 'Arrivals': 69827},\n",
       " {'Year': 2015, 'Month': 12, 'Arrivals': 39025},\n",
       " {'Year': 2016, 'Month': 1, 'Arrivals': 49172},\n",
       " {'Year': 2016, 'Month': 2, 'Arrivals': 27207},\n",
       " {'Year': 2016, 'Month': 3, 'Arrivals': 31280},\n",
       " {'Year': 2016, 'Month': 4, 'Arrivals': 67805},\n",
       " {'Year': 2016, 'Month': 5, 'Arrivals': 79053},\n",
       " {'Year': 2016, 'Month': 6, 'Arrivals': 83455},\n",
       " {'Year': 2016, 'Month': 7, 'Arrivals': 89144},\n",
       " {'Year': 2016, 'Month': 8, 'Arrivals': 88596},\n",
       " {'Year': 2016, 'Month': 9, 'Arrivals': 84276},\n",
       " {'Year': 2016, 'Month': 10, 'Arrivals': 79744},\n",
       " {'Year': 2016, 'Month': 11, 'Arrivals': 77321},\n",
       " {'Year': 2016, 'Month': 12, 'Arrivals': 35290},\n",
       " {'Year': 2017, 'Month': 1, 'Arrivals': 39564},\n",
       " {'Year': 2017, 'Month': 2, 'Arrivals': 28053},\n",
       " {'Year': 2017, 'Month': 3, 'Arrivals': 32748},\n",
       " {'Year': 2017, 'Month': 4, 'Arrivals': 55198},\n",
       " {'Year': 2017, 'Month': 5, 'Arrivals': 100573},\n",
       " {'Year': 2017, 'Month': 6, 'Arrivals': 87770},\n",
       " {'Year': 2017, 'Month': 7, 'Arrivals': 97694},\n",
       " {'Year': 2017, 'Month': 8, 'Arrivals': 90058},\n",
       " {'Year': 2017, 'Month': 9, 'Arrivals': 90444},\n",
       " {'Year': 2017, 'Month': 10, 'Arrivals': 87885},\n",
       " {'Year': 2017, 'Month': 11, 'Arrivals': 74823},\n",
       " {'Year': 2017, 'Month': 12, 'Arrivals': 47596},\n",
       " {'Year': 2018, 'Month': 1, 'Arrivals': 44788},\n",
       " {'Year': 2018, 'Month': 2, 'Arrivals': 32652},\n",
       " {'Year': 2018, 'Month': 3, 'Arrivals': 37983},\n",
       " {'Year': 2018, 'Month': 4, 'Arrivals': 74432},\n",
       " {'Year': 2018, 'Month': 5, 'Arrivals': 100931},\n",
       " {'Year': 2018, 'Month': 6, 'Arrivals': 101648},\n",
       " {'Year': 2018, 'Month': 7, 'Arrivals': 98887},\n",
       " {'Year': 2018, 'Month': 8, 'Arrivals': 101230},\n",
       " {'Year': 2018, 'Month': 9, 'Arrivals': 91641},\n",
       " {'Year': 2018, 'Month': 10, 'Arrivals': 90164},\n",
       " {'Year': 2018, 'Month': 11, 'Arrivals': 79442},\n",
       " {'Year': 2018, 'Month': 12, 'Arrivals': 45837},\n",
       " {'Year': 2019, 'Month': 1, 'Arrivals': 37570},\n",
       " {'Year': 2019, 'Month': 2, 'Arrivals': 31499},\n",
       " {'Year': 2019, 'Month': 3, 'Arrivals': 38370},\n",
       " {'Year': 2019, 'Month': 4, 'Arrivals': 65370},\n",
       " {'Year': 2019, 'Month': 5, 'Arrivals': 108992},\n",
       " {'Year': 2019, 'Month': 6, 'Arrivals': 97133},\n",
       " {'Year': 2019, 'Month': 7, 'Arrivals': 101247},\n",
       " {'Year': 2019, 'Month': 8, 'Arrivals': 99606},\n",
       " {'Year': 2019, 'Month': 9, 'Arrivals': 93736},\n",
       " {'Year': 2019, 'Month': 10, 'Arrivals': 91421},\n",
       " {'Year': 2019, 'Month': 11, 'Arrivals': 86502},\n",
       " {'Year': 2019, 'Month': 12, 'Arrivals': 47747},\n",
       " {'Year': 2020, 'Month': 1, 'Arrivals': 40886},\n",
       " {'Year': 2020, 'Month': 2, 'Arrivals': 36281},\n",
       " {'Year': 2020, 'Month': 3, 'Arrivals': 33587},\n",
       " {'Year': 2020, 'Month': 4, 'Arrivals': 4766},\n",
       " {'Year': 2020, 'Month': 5, 'Arrivals': 0},\n",
       " {'Year': 2020, 'Month': 6, 'Arrivals': 0},\n",
       " {'Year': 2020, 'Month': 7, 'Arrivals': 0},\n",
       " {'Year': 2020, 'Month': 8, 'Arrivals': 0},\n",
       " {'Year': 2020, 'Month': 9, 'Arrivals': 0},\n",
       " {'Year': 2020, 'Month': 10, 'Arrivals': 0},\n",
       " {'Year': 2020, 'Month': 11, 'Arrivals': 0},\n",
       " {'Year': 2020, 'Month': 12, 'Arrivals': 0}]"
      ]
     },
     "execution_count": 40,
     "metadata": {
      "tags": []
     },
     "output_type": "execute_result"
    }
   ],
   "source": [
    "output"
   ]
  },
  {
   "cell_type": "code",
   "execution_count": 0,
   "metadata": {
    "colab": {},
    "colab_type": "code",
    "id": "lFX8UYV9iFUD"
   },
   "outputs": [],
   "source": [
    "import csv\n",
    "names = output[0].keys()\n",
    "with open('data/arrivals_pistoia2.csv', 'w') as output_file:\n",
    "    dict_writer = csv.DictWriter(output_file, names)\n",
    "    dict_writer.writeheader()\n",
    "    dict_writer.writerows(output)"
   ]
  }
 ],
 "metadata": {
  "colab": {
   "name": "Dati Osservatorio Turismo.ipynb",
   "provenance": []
  },
  "kernelspec": {
   "display_name": "Python 3",
   "language": "python",
   "name": "python3"
  },
  "language_info": {
   "codemirror_mode": {
    "name": "ipython",
    "version": 3
   },
   "file_extension": ".py",
   "mimetype": "text/x-python",
   "name": "python",
   "nbconvert_exporter": "python",
   "pygments_lexer": "ipython3",
   "version": "3.8.1"
  }
 },
 "nbformat": 4,
 "nbformat_minor": 1
}
